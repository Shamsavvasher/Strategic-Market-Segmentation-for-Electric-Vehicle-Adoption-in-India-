{
  "cells": [
    {
      "cell_type": "markdown",
      "id": "0976059a",
      "metadata": {
        "id": "0976059a"
      },
      "source": [
        "## **Market Segment Analysis on Electric Vehicle Startup**\n",
        "The Indian electric vehicle (EV) market has witnessed remarkable growth over the past few years, driven by increasing environmental awareness, government incentives, and advancements in EV technology. This report provides a comparative analysis of EV sales across three fiscal years: FY22-23, FY23-24, and FY24-25. It highlights the performance and adoption trends across various EV categories, including electric two-wheelers (e-2W), e-rickshaws, e-carts, electric three-wheelers (passenger and goods), four-wheelers, buses, and other niche segments.\n",
        "\n",
        "By analyzing year-on-year growth and category-wise sales figures, this report aims to identify which segments are leading the EV revolution in India and where future opportunities for investment and innovation lie. The insights from this data-driven analysis are crucial for manufacturers, policymakers, and stakeholders looking to navigate and contribute to India's evolving EV ecosystem."
      ]
    },
    {
      "cell_type": "code",
      "execution_count": null,
      "metadata": {
        "id": "gKRDWJnD6E_Z"
      },
      "outputs": [],
      "source": [
        "import pandas as pd\n",
        "import numpy as np\n",
        "import matplotlib.pyplot as plt\n",
        "import seaborn as sns\n"
      ],
      "id": "gKRDWJnD6E_Z"
    },
    {
      "cell_type": "code",
      "execution_count": null,
      "id": "47cc103d",
      "metadata": {
        "colab": {
          "base_uri": "https://localhost:8080/",
          "height": 429
        },
        "id": "47cc103d",
        "outputId": "2d2bec8d-df8e-498c-be9f-7940f510f86d"
      },
      "outputs": [
        {
          "output_type": "execute_result",
          "data": {
            "text/plain": [
              "   Year Month_name  Day        Date             State  \\\n",
              "0  2024        dec    1  2024-12-01           Gujarat   \n",
              "1  2024        dec    1  2024-12-01  Himachal Pradesh   \n",
              "2  2024        dec    1  2024-12-01  Himachal Pradesh   \n",
              "3  2024        dec    1  2024-12-01  Himachal Pradesh   \n",
              "4  2024        dec    1  2024-12-01  Himachal Pradesh   \n",
              "\n",
              "                        Vehicle Class Vehicle Category Vehicle Type  CNG ONLY  \\\n",
              "0             VEHICLE FITTED WITH RIG           Others       Others         0   \n",
              "1                AGRICULTURAL TRACTOR           Others       Others         0   \n",
              "2                           AMBULANCE           Others       Others         0   \n",
              "3                                 BUS              Bus          Bus         0   \n",
              "4  CAMPER VAN / TRAILER (PRIVATE USE)           Others       Others         0   \n",
              "\n",
              "   DIESEL  ...  PETROL/ETHANOL  PETROL/HYBRID  PETROL/LPG  PETROL/METHANOL  \\\n",
              "0       1  ...               0              0           0                0   \n",
              "1     158  ...               0              0           0                0   \n",
              "2       2  ...               0              0           0                0   \n",
              "3      24  ...               0              0           0                0   \n",
              "4       4  ...               0              0           0                0   \n",
              "\n",
              "   SOLAR  Total  PLUG-IN HYBRID EV  PURE EV  STRONG HYBRID EV  \\\n",
              "0      0      1                0.0      0.0               0.0   \n",
              "1      0    158                0.0      0.0               0.0   \n",
              "2      0      5                0.0      0.0               0.0   \n",
              "3      0     25                0.0      0.0               0.0   \n",
              "4      0      4                0.0      0.0               0.0   \n",
              "\n",
              "   Vehicle Use type  \n",
              "0            Others  \n",
              "1            Others  \n",
              "2            Others  \n",
              "3            Shared  \n",
              "4          Personal  \n",
              "\n",
              "[5 rows x 34 columns]"
            ],
            "text/html": [
              "\n",
              "  <div id=\"df-f20ddaec-4be5-4b57-b20f-5bc8af490cf2\" class=\"colab-df-container\">\n",
              "    <div>\n",
              "<style scoped>\n",
              "    .dataframe tbody tr th:only-of-type {\n",
              "        vertical-align: middle;\n",
              "    }\n",
              "\n",
              "    .dataframe tbody tr th {\n",
              "        vertical-align: top;\n",
              "    }\n",
              "\n",
              "    .dataframe thead th {\n",
              "        text-align: right;\n",
              "    }\n",
              "</style>\n",
              "<table border=\"1\" class=\"dataframe\">\n",
              "  <thead>\n",
              "    <tr style=\"text-align: right;\">\n",
              "      <th></th>\n",
              "      <th>Year</th>\n",
              "      <th>Month_name</th>\n",
              "      <th>Day</th>\n",
              "      <th>Date</th>\n",
              "      <th>State</th>\n",
              "      <th>Vehicle Class</th>\n",
              "      <th>Vehicle Category</th>\n",
              "      <th>Vehicle Type</th>\n",
              "      <th>CNG ONLY</th>\n",
              "      <th>DIESEL</th>\n",
              "      <th>...</th>\n",
              "      <th>PETROL/ETHANOL</th>\n",
              "      <th>PETROL/HYBRID</th>\n",
              "      <th>PETROL/LPG</th>\n",
              "      <th>PETROL/METHANOL</th>\n",
              "      <th>SOLAR</th>\n",
              "      <th>Total</th>\n",
              "      <th>PLUG-IN HYBRID EV</th>\n",
              "      <th>PURE EV</th>\n",
              "      <th>STRONG HYBRID EV</th>\n",
              "      <th>Vehicle Use type</th>\n",
              "    </tr>\n",
              "  </thead>\n",
              "  <tbody>\n",
              "    <tr>\n",
              "      <th>0</th>\n",
              "      <td>2024</td>\n",
              "      <td>dec</td>\n",
              "      <td>1</td>\n",
              "      <td>2024-12-01</td>\n",
              "      <td>Gujarat</td>\n",
              "      <td>VEHICLE FITTED WITH RIG</td>\n",
              "      <td>Others</td>\n",
              "      <td>Others</td>\n",
              "      <td>0</td>\n",
              "      <td>1</td>\n",
              "      <td>...</td>\n",
              "      <td>0</td>\n",
              "      <td>0</td>\n",
              "      <td>0</td>\n",
              "      <td>0</td>\n",
              "      <td>0</td>\n",
              "      <td>1</td>\n",
              "      <td>0.0</td>\n",
              "      <td>0.0</td>\n",
              "      <td>0.0</td>\n",
              "      <td>Others</td>\n",
              "    </tr>\n",
              "    <tr>\n",
              "      <th>1</th>\n",
              "      <td>2024</td>\n",
              "      <td>dec</td>\n",
              "      <td>1</td>\n",
              "      <td>2024-12-01</td>\n",
              "      <td>Himachal Pradesh</td>\n",
              "      <td>AGRICULTURAL TRACTOR</td>\n",
              "      <td>Others</td>\n",
              "      <td>Others</td>\n",
              "      <td>0</td>\n",
              "      <td>158</td>\n",
              "      <td>...</td>\n",
              "      <td>0</td>\n",
              "      <td>0</td>\n",
              "      <td>0</td>\n",
              "      <td>0</td>\n",
              "      <td>0</td>\n",
              "      <td>158</td>\n",
              "      <td>0.0</td>\n",
              "      <td>0.0</td>\n",
              "      <td>0.0</td>\n",
              "      <td>Others</td>\n",
              "    </tr>\n",
              "    <tr>\n",
              "      <th>2</th>\n",
              "      <td>2024</td>\n",
              "      <td>dec</td>\n",
              "      <td>1</td>\n",
              "      <td>2024-12-01</td>\n",
              "      <td>Himachal Pradesh</td>\n",
              "      <td>AMBULANCE</td>\n",
              "      <td>Others</td>\n",
              "      <td>Others</td>\n",
              "      <td>0</td>\n",
              "      <td>2</td>\n",
              "      <td>...</td>\n",
              "      <td>0</td>\n",
              "      <td>0</td>\n",
              "      <td>0</td>\n",
              "      <td>0</td>\n",
              "      <td>0</td>\n",
              "      <td>5</td>\n",
              "      <td>0.0</td>\n",
              "      <td>0.0</td>\n",
              "      <td>0.0</td>\n",
              "      <td>Others</td>\n",
              "    </tr>\n",
              "    <tr>\n",
              "      <th>3</th>\n",
              "      <td>2024</td>\n",
              "      <td>dec</td>\n",
              "      <td>1</td>\n",
              "      <td>2024-12-01</td>\n",
              "      <td>Himachal Pradesh</td>\n",
              "      <td>BUS</td>\n",
              "      <td>Bus</td>\n",
              "      <td>Bus</td>\n",
              "      <td>0</td>\n",
              "      <td>24</td>\n",
              "      <td>...</td>\n",
              "      <td>0</td>\n",
              "      <td>0</td>\n",
              "      <td>0</td>\n",
              "      <td>0</td>\n",
              "      <td>0</td>\n",
              "      <td>25</td>\n",
              "      <td>0.0</td>\n",
              "      <td>0.0</td>\n",
              "      <td>0.0</td>\n",
              "      <td>Shared</td>\n",
              "    </tr>\n",
              "    <tr>\n",
              "      <th>4</th>\n",
              "      <td>2024</td>\n",
              "      <td>dec</td>\n",
              "      <td>1</td>\n",
              "      <td>2024-12-01</td>\n",
              "      <td>Himachal Pradesh</td>\n",
              "      <td>CAMPER VAN / TRAILER (PRIVATE USE)</td>\n",
              "      <td>Others</td>\n",
              "      <td>Others</td>\n",
              "      <td>0</td>\n",
              "      <td>4</td>\n",
              "      <td>...</td>\n",
              "      <td>0</td>\n",
              "      <td>0</td>\n",
              "      <td>0</td>\n",
              "      <td>0</td>\n",
              "      <td>0</td>\n",
              "      <td>4</td>\n",
              "      <td>0.0</td>\n",
              "      <td>0.0</td>\n",
              "      <td>0.0</td>\n",
              "      <td>Personal</td>\n",
              "    </tr>\n",
              "  </tbody>\n",
              "</table>\n",
              "<p>5 rows × 34 columns</p>\n",
              "</div>\n",
              "    <div class=\"colab-df-buttons\">\n",
              "\n",
              "  <div class=\"colab-df-container\">\n",
              "    <button class=\"colab-df-convert\" onclick=\"convertToInteractive('df-f20ddaec-4be5-4b57-b20f-5bc8af490cf2')\"\n",
              "            title=\"Convert this dataframe to an interactive table.\"\n",
              "            style=\"display:none;\">\n",
              "\n",
              "  <svg xmlns=\"http://www.w3.org/2000/svg\" height=\"24px\" viewBox=\"0 -960 960 960\">\n",
              "    <path d=\"M120-120v-720h720v720H120Zm60-500h600v-160H180v160Zm220 220h160v-160H400v160Zm0 220h160v-160H400v160ZM180-400h160v-160H180v160Zm440 0h160v-160H620v160ZM180-180h160v-160H180v160Zm440 0h160v-160H620v160Z\"/>\n",
              "  </svg>\n",
              "    </button>\n",
              "\n",
              "  <style>\n",
              "    .colab-df-container {\n",
              "      display:flex;\n",
              "      gap: 12px;\n",
              "    }\n",
              "\n",
              "    .colab-df-convert {\n",
              "      background-color: #E8F0FE;\n",
              "      border: none;\n",
              "      border-radius: 50%;\n",
              "      cursor: pointer;\n",
              "      display: none;\n",
              "      fill: #1967D2;\n",
              "      height: 32px;\n",
              "      padding: 0 0 0 0;\n",
              "      width: 32px;\n",
              "    }\n",
              "\n",
              "    .colab-df-convert:hover {\n",
              "      background-color: #E2EBFA;\n",
              "      box-shadow: 0px 1px 2px rgba(60, 64, 67, 0.3), 0px 1px 3px 1px rgba(60, 64, 67, 0.15);\n",
              "      fill: #174EA6;\n",
              "    }\n",
              "\n",
              "    .colab-df-buttons div {\n",
              "      margin-bottom: 4px;\n",
              "    }\n",
              "\n",
              "    [theme=dark] .colab-df-convert {\n",
              "      background-color: #3B4455;\n",
              "      fill: #D2E3FC;\n",
              "    }\n",
              "\n",
              "    [theme=dark] .colab-df-convert:hover {\n",
              "      background-color: #434B5C;\n",
              "      box-shadow: 0px 1px 3px 1px rgba(0, 0, 0, 0.15);\n",
              "      filter: drop-shadow(0px 1px 2px rgba(0, 0, 0, 0.3));\n",
              "      fill: #FFFFFF;\n",
              "    }\n",
              "  </style>\n",
              "\n",
              "    <script>\n",
              "      const buttonEl =\n",
              "        document.querySelector('#df-f20ddaec-4be5-4b57-b20f-5bc8af490cf2 button.colab-df-convert');\n",
              "      buttonEl.style.display =\n",
              "        google.colab.kernel.accessAllowed ? 'block' : 'none';\n",
              "\n",
              "      async function convertToInteractive(key) {\n",
              "        const element = document.querySelector('#df-f20ddaec-4be5-4b57-b20f-5bc8af490cf2');\n",
              "        const dataTable =\n",
              "          await google.colab.kernel.invokeFunction('convertToInteractive',\n",
              "                                                    [key], {});\n",
              "        if (!dataTable) return;\n",
              "\n",
              "        const docLinkHtml = 'Like what you see? Visit the ' +\n",
              "          '<a target=\"_blank\" href=https://colab.research.google.com/notebooks/data_table.ipynb>data table notebook</a>'\n",
              "          + ' to learn more about interactive tables.';\n",
              "        element.innerHTML = '';\n",
              "        dataTable['output_type'] = 'display_data';\n",
              "        await google.colab.output.renderOutput(dataTable, element);\n",
              "        const docLink = document.createElement('div');\n",
              "        docLink.innerHTML = docLinkHtml;\n",
              "        element.appendChild(docLink);\n",
              "      }\n",
              "    </script>\n",
              "  </div>\n",
              "\n",
              "\n",
              "    <div id=\"df-d46176e3-5c10-4e59-88d1-c40947b8d3d3\">\n",
              "      <button class=\"colab-df-quickchart\" onclick=\"quickchart('df-d46176e3-5c10-4e59-88d1-c40947b8d3d3')\"\n",
              "                title=\"Suggest charts\"\n",
              "                style=\"display:none;\">\n",
              "\n",
              "<svg xmlns=\"http://www.w3.org/2000/svg\" height=\"24px\"viewBox=\"0 0 24 24\"\n",
              "     width=\"24px\">\n",
              "    <g>\n",
              "        <path d=\"M19 3H5c-1.1 0-2 .9-2 2v14c0 1.1.9 2 2 2h14c1.1 0 2-.9 2-2V5c0-1.1-.9-2-2-2zM9 17H7v-7h2v7zm4 0h-2V7h2v10zm4 0h-2v-4h2v4z\"/>\n",
              "    </g>\n",
              "</svg>\n",
              "      </button>\n",
              "\n",
              "<style>\n",
              "  .colab-df-quickchart {\n",
              "      --bg-color: #E8F0FE;\n",
              "      --fill-color: #1967D2;\n",
              "      --hover-bg-color: #E2EBFA;\n",
              "      --hover-fill-color: #174EA6;\n",
              "      --disabled-fill-color: #AAA;\n",
              "      --disabled-bg-color: #DDD;\n",
              "  }\n",
              "\n",
              "  [theme=dark] .colab-df-quickchart {\n",
              "      --bg-color: #3B4455;\n",
              "      --fill-color: #D2E3FC;\n",
              "      --hover-bg-color: #434B5C;\n",
              "      --hover-fill-color: #FFFFFF;\n",
              "      --disabled-bg-color: #3B4455;\n",
              "      --disabled-fill-color: #666;\n",
              "  }\n",
              "\n",
              "  .colab-df-quickchart {\n",
              "    background-color: var(--bg-color);\n",
              "    border: none;\n",
              "    border-radius: 50%;\n",
              "    cursor: pointer;\n",
              "    display: none;\n",
              "    fill: var(--fill-color);\n",
              "    height: 32px;\n",
              "    padding: 0;\n",
              "    width: 32px;\n",
              "  }\n",
              "\n",
              "  .colab-df-quickchart:hover {\n",
              "    background-color: var(--hover-bg-color);\n",
              "    box-shadow: 0 1px 2px rgba(60, 64, 67, 0.3), 0 1px 3px 1px rgba(60, 64, 67, 0.15);\n",
              "    fill: var(--button-hover-fill-color);\n",
              "  }\n",
              "\n",
              "  .colab-df-quickchart-complete:disabled,\n",
              "  .colab-df-quickchart-complete:disabled:hover {\n",
              "    background-color: var(--disabled-bg-color);\n",
              "    fill: var(--disabled-fill-color);\n",
              "    box-shadow: none;\n",
              "  }\n",
              "\n",
              "  .colab-df-spinner {\n",
              "    border: 2px solid var(--fill-color);\n",
              "    border-color: transparent;\n",
              "    border-bottom-color: var(--fill-color);\n",
              "    animation:\n",
              "      spin 1s steps(1) infinite;\n",
              "  }\n",
              "\n",
              "  @keyframes spin {\n",
              "    0% {\n",
              "      border-color: transparent;\n",
              "      border-bottom-color: var(--fill-color);\n",
              "      border-left-color: var(--fill-color);\n",
              "    }\n",
              "    20% {\n",
              "      border-color: transparent;\n",
              "      border-left-color: var(--fill-color);\n",
              "      border-top-color: var(--fill-color);\n",
              "    }\n",
              "    30% {\n",
              "      border-color: transparent;\n",
              "      border-left-color: var(--fill-color);\n",
              "      border-top-color: var(--fill-color);\n",
              "      border-right-color: var(--fill-color);\n",
              "    }\n",
              "    40% {\n",
              "      border-color: transparent;\n",
              "      border-right-color: var(--fill-color);\n",
              "      border-top-color: var(--fill-color);\n",
              "    }\n",
              "    60% {\n",
              "      border-color: transparent;\n",
              "      border-right-color: var(--fill-color);\n",
              "    }\n",
              "    80% {\n",
              "      border-color: transparent;\n",
              "      border-right-color: var(--fill-color);\n",
              "      border-bottom-color: var(--fill-color);\n",
              "    }\n",
              "    90% {\n",
              "      border-color: transparent;\n",
              "      border-bottom-color: var(--fill-color);\n",
              "    }\n",
              "  }\n",
              "</style>\n",
              "\n",
              "      <script>\n",
              "        async function quickchart(key) {\n",
              "          const quickchartButtonEl =\n",
              "            document.querySelector('#' + key + ' button');\n",
              "          quickchartButtonEl.disabled = true;  // To prevent multiple clicks.\n",
              "          quickchartButtonEl.classList.add('colab-df-spinner');\n",
              "          try {\n",
              "            const charts = await google.colab.kernel.invokeFunction(\n",
              "                'suggestCharts', [key], {});\n",
              "          } catch (error) {\n",
              "            console.error('Error during call to suggestCharts:', error);\n",
              "          }\n",
              "          quickchartButtonEl.classList.remove('colab-df-spinner');\n",
              "          quickchartButtonEl.classList.add('colab-df-quickchart-complete');\n",
              "        }\n",
              "        (() => {\n",
              "          let quickchartButtonEl =\n",
              "            document.querySelector('#df-d46176e3-5c10-4e59-88d1-c40947b8d3d3 button');\n",
              "          quickchartButtonEl.style.display =\n",
              "            google.colab.kernel.accessAllowed ? 'block' : 'none';\n",
              "        })();\n",
              "      </script>\n",
              "    </div>\n",
              "\n",
              "    </div>\n",
              "  </div>\n"
            ],
            "application/vnd.google.colaboratory.intrinsic+json": {
              "type": "dataframe",
              "variable_name": "df"
            }
          },
          "metadata": {},
          "execution_count": 3
        }
      ],
      "source": [
        "df= pd.read_csv(\"/content/evdb_statewise_202501161203.csv\")\n",
        "df.head()"
      ]
    },
    {
      "cell_type": "code",
      "execution_count": null,
      "id": "242fe28c",
      "metadata": {
        "colab": {
          "base_uri": "https://localhost:8080/"
        },
        "id": "242fe28c",
        "outputId": "cdc09da2-4b92-4e33-eab6-d877b001c798"
      },
      "outputs": [
        {
          "output_type": "stream",
          "name": "stdout",
          "text": [
            "<class 'pandas.core.frame.DataFrame'>\n",
            "RangeIndex: 106669 entries, 0 to 106668\n",
            "Data columns (total 34 columns):\n",
            " #   Column               Non-Null Count   Dtype  \n",
            "---  ------               --------------   -----  \n",
            " 0   Year                 106669 non-null  int64  \n",
            " 1   Month_name           106669 non-null  object \n",
            " 2   Day                  106669 non-null  int64  \n",
            " 3   Date                 106669 non-null  object \n",
            " 4   State                106669 non-null  object \n",
            " 5   Vehicle Class        106669 non-null  object \n",
            " 6   Vehicle Category     106667 non-null  object \n",
            " 7   Vehicle Type         106667 non-null  object \n",
            " 8   CNG ONLY             106669 non-null  int64  \n",
            " 9   DIESEL               106669 non-null  int64  \n",
            " 10  DIESEL/HYBRID        106669 non-null  int64  \n",
            " 11  DI-METHYL ETHER      106669 non-null  int64  \n",
            " 12  DUAL DIESEL/BIO CNG  106669 non-null  int64  \n",
            " 13  DUAL DIESEL/CNG      106669 non-null  int64  \n",
            " 14  DUAL DIESEL/LNG      106669 non-null  int64  \n",
            " 15  ELECTRIC(BOV)        106669 non-null  int64  \n",
            " 16  ETHANOL              106669 non-null  int64  \n",
            " 17  FUEL CELL HYDROGEN   106669 non-null  int64  \n",
            " 18  LNG                  106669 non-null  int64  \n",
            " 19  LPG ONLY             106669 non-null  int64  \n",
            " 20  METHANOL             106669 non-null  int64  \n",
            " 21  NOT APPLICABLE       106669 non-null  int64  \n",
            " 22  PETROL               106669 non-null  int64  \n",
            " 23  PETROL/CNG           106669 non-null  int64  \n",
            " 24  PETROL/ETHANOL       106669 non-null  int64  \n",
            " 25  PETROL/HYBRID        106669 non-null  int64  \n",
            " 26  PETROL/LPG           106669 non-null  int64  \n",
            " 27  PETROL/METHANOL      106669 non-null  int64  \n",
            " 28  SOLAR                106669 non-null  int64  \n",
            " 29  Total                106669 non-null  int64  \n",
            " 30  PLUG-IN HYBRID EV    9824 non-null    float64\n",
            " 31  PURE EV              9824 non-null    float64\n",
            " 32  STRONG HYBRID EV     9824 non-null    float64\n",
            " 33  Vehicle Use type     106667 non-null  object \n",
            "dtypes: float64(3), int64(24), object(7)\n",
            "memory usage: 27.7+ MB\n"
          ]
        }
      ],
      "source": [
        "df.info()"
      ]
    },
    {
      "cell_type": "markdown",
      "source": [
        "\n",
        "* The DataFrame `df` has 37 rows and 28 columns.\n",
        "* It contains data related to electric vehicle sales across different categories and fiscal years.\n",
        "* The columns represent various EV types and fiscal year sales figures,\n",
        "and most columns seem to have non-null values, indicating complete data for those columns."
      ],
      "metadata": {
        "id": "3zrDjNA47e48"
      },
      "id": "3zrDjNA47e48"
    },
    {
      "cell_type": "markdown",
      "id": "6e8f37d9",
      "metadata": {
        "id": "6e8f37d9"
      },
      "source": [
        "### Data Preprocessing"
      ]
    },
    {
      "cell_type": "code",
      "execution_count": null,
      "id": "442021e5",
      "metadata": {
        "id": "442021e5"
      },
      "outputs": [],
      "source": [
        "df.isnull().sum()"
      ]
    },
    {
      "cell_type": "code",
      "execution_count": null,
      "id": "3d994643",
      "metadata": {
        "id": "3d994643"
      },
      "outputs": [],
      "source": [
        "df.describe()"
      ]
    },
    {
      "cell_type": "markdown",
      "id": "70d00a0f",
      "metadata": {
        "id": "70d00a0f"
      },
      "source": [
        "The code above performs initial data exploration and preprocessing on an electric vehicle (EV) dataset. Here’s a summary of the steps and observations:\n",
        "\n",
        "1. **Imports**: Libraries like pandas, numpy, matplotlib, and seaborn are imported for data manipulation and visualization.\n",
        "2. **Data Loading**: The dataset is loaded into a DataFrame `df` from a CSV file.\n",
        "3. **Inspection**: The code checks the first few rows (`df.head()`), data types and non-null counts (`df.info()`), and missing values (`df.isnull().sum()`).\n",
        "4. **Descriptive Stats**: Basic statistics are generated with `df.describe()`.\n",
        "5. **Unique States**: The unique states present in the data are listed.\n",
        "6. **Date Processing**: The code creates new columns for month number and a datetime object for each record, and standardizes state names.\n",
        "7. **EV Calculation**: A new column `Total_EV` is created by summing up different EV-related columns. State-wise totals are also calculated.\n",
        "8. **Visualization**: Monthly and state-wise EV adoption trends are visualized using Plotly.\n",
        "9. **Insights**: The state with the highest EV adoption and the most popular EV class in that state are identified and visualized.\n",
        "\n",
        "**Observations:**\n",
        "- The dataset is large (over 100,000 rows) and contains detailed vehicle registration data by state, month, and vehicle type.\n",
        "- There are some missing values in a few columns (e.g., `PLUG-IN HYBRID EV`, `PURE EV`, `STRONG HYBRID EV`).\n",
        "- The code focuses on analyzing and visualizing EV adoption trends across states and over time, as well as identifying leading states and EV classes."
      ]
    },
    {
      "cell_type": "code",
      "execution_count": null,
      "id": "1b1608ae",
      "metadata": {
        "id": "1b1608ae",
        "outputId": "9c670a29-de37-4606-ff77-4909379f4581"
      },
      "outputs": [
        {
          "data": {
            "text/plain": [
              "array(['Gujarat', 'Himachal Pradesh', 'Haryana', 'Jharkhand',\n",
              "       'Jammu and Kashmir', 'Karnataka', 'Kerala', 'Ladakh',\n",
              "       'Lakshadweep', 'Maharashtra', 'Arunachal Pradesh', 'Meghalaya',\n",
              "       'Manipur', 'Madhya Pradesh', 'Mizoram', 'Nagaland', 'Odisha',\n",
              "       'Punjab', 'Puducherry', 'Rajasthan', 'Sikkim', 'Assam',\n",
              "       'Tamil Nadu', 'Tripura', 'Uttarakhand', 'Uttar Pradesh',\n",
              "       'West Bengal', 'Goa', 'Andaman & Nicobar Island', 'Andhra Pradesh',\n",
              "       'Bihar', 'Chhattisgarh', 'Chandigarh', 'DNH and DD', 'Delhi'],\n",
              "      dtype=object)"
            ]
          },
          "execution_count": 19,
          "metadata": {},
          "output_type": "execute_result"
        }
      ],
      "source": [
        "df['State'].unique()"
      ]
    },
    {
      "cell_type": "code",
      "execution_count": null,
      "id": "3d47626e",
      "metadata": {
        "id": "3d47626e"
      },
      "outputs": [],
      "source": [
        "df['Month_num'] = df['Month_name'].str[:3].str.title().map({\n",
        "\t'Jan': 1, 'Feb': 2, 'Mar': 3, 'Apr': 4, 'May': 5, 'Jun': 6,\n",
        "\t'Jul': 7, 'Aug': 8, 'Sep': 9, 'Oct': 10, 'Nov': 11, 'Dec': 12\n",
        "})\n",
        "df['Month_start'] = pd.to_datetime(dict(year=df['Year'], month=df['Month_num'], day=1))\n",
        "\n",
        "df['State'] = df['State'].str.title()"
      ]
    },
    {
      "cell_type": "code",
      "execution_count": null,
      "id": "2994a569",
      "metadata": {
        "id": "2994a569"
      },
      "outputs": [],
      "source": [
        "# Create a new column for total EVs (sum of relevant columns)\n",
        "df['Total_EV'] = df[['ELECTRIC(BOV)', 'PLUG-IN HYBRID EV', 'PURE EV', 'STRONG HYBRID EV']].fillna(0).sum(axis=1)\n",
        "\n",
        "total_ev = df['Total_EV'].sum()\n",
        "statewise = df.groupby('State')['Total_EV'].sum().sort_values(ascending=False)\n"
      ]
    },
    {
      "cell_type": "markdown",
      "source": [
        "\n",
        "\n",
        "| State                       | Total_EV   |\n",
        "|-----------------------------|------------|\n",
        "| UTTAR PRADESH               | 596459.0   |\n",
        "| MAHARASHTRA                 | 525139.0   |\n",
        "| KARNATAKA                   | 443740.0   |\n",
        "| DELHI                       | 438766.0   |\n",
        "| RAJASTHAN                   | 371750.0   |\n",
        "| GUJARAT                     | 292979.0   |\n",
        "| TAMIL NADU                  | 288595.0   |\n",
        "| ASSAM                       | 259170.0   |\n",
        "| HARYANA                     | 218947.0   |\n",
        "| MADHYA PRADESH              | 216215.0   |\n",
        "| WEST BENGAL                 | 206552.0   |\n",
        "| BIHAR                       | 201895.0   |\n",
        "| ODISHA                      | 163746.0   |\n",
        "| TELANGANA                   | 134083.0   |\n",
        "| KERALA                      | 132843.0   |\n",
        "| UTTARAKHAND                 | 126734.0   |\n",
        "| CHHATTISGARH                | 108906.0   |\n",
        "| JAMMU AND KASHMIR           | 92825.0    |\n",
        "| PUNJAB                      | 80069.0    |\n",
        "| ANDHRA PRADESH              | 78400.0    |\n",
        "| JHARKHAND                   | 63179.0    |\n",
        "| MEGHALAYA                   | 51166.0    |\n",
        "| HIMACHAL PRADESH            | 22375.0    |\n",
        "| ARUNACHAL PRADESH           | 18614.0    |\n",
        "| TRIPURA                     | 17978.0    |\n",
        "| GOA                         | 14253.0    |\n",
        "| CHANDIGARH                  | 12951.0    |\n",
        "| PUDUCHERRY                  | 12147.0    |\n",
        "| ANDAMAN AND NICOBAR ISLANDS | 5787.0     |\n",
        "| MANIPUR                     | 5781.0     |\n",
        "| MIZORAM                     | 5128.0     |\n",
        "| SIKKIM                      | 4358.0     |\n",
        "| LADAKH                      | 1162.0     |\n",
        "| NAGALAND                    | 873.0      |\n",
        "| LAKSHADWEEP                 | 0.0        |"
      ],
      "metadata": {
        "id": "3IZZ4zlN8c6d"
      },
      "id": "3IZZ4zlN8c6d"
    },
    {
      "cell_type": "code",
      "execution_count": null,
      "id": "cc862291",
      "metadata": {
        "colab": {
          "base_uri": "https://localhost:8080/",
          "height": 542
        },
        "id": "cc862291",
        "outputId": "fc7d7b0e-be51-493d-cafb-2f1c428f3076"
      },
      "outputs": [
        {
          "output_type": "display_data",
          "data": {
            "text/html": [
              "<html>\n",
              "<head><meta charset=\"utf-8\" /></head>\n",
              "<body>\n",
              "    <div>            <script src=\"https://cdnjs.cloudflare.com/ajax/libs/mathjax/2.7.5/MathJax.js?config=TeX-AMS-MML_SVG\"></script><script type=\"text/javascript\">if (window.MathJax && window.MathJax.Hub && window.MathJax.Hub.Config) {window.MathJax.Hub.Config({SVG: {font: \"STIX-Web\"}});}</script>                <script type=\"text/javascript\">window.PlotlyConfig = {MathJaxConfig: 'local'};</script>\n",
              "        <script charset=\"utf-8\" src=\"https://cdn.plot.ly/plotly-2.35.2.min.js\"></script>                <div id=\"0d3b404a-eac4-4ddc-a106-2eab1edded15\" class=\"plotly-graph-div\" style=\"height:525px; width:100%;\"></div>            <script type=\"text/javascript\">                                    window.PLOTLYENV=window.PLOTLYENV || {};                                    if (document.getElementById(\"0d3b404a-eac4-4ddc-a106-2eab1edded15\")) {                    Plotly.newPlot(                        \"0d3b404a-eac4-4ddc-a106-2eab1edded15\",                        [{\"hovertemplate\":\"Month_start=%{x}\\u003cbr\\u003eTotal_EV=%{y}\\u003cextra\\u003e\\u003c\\u002fextra\\u003e\",\"legendgroup\":\"\",\"line\":{\"color\":\"#636efa\",\"dash\":\"solid\"},\"marker\":{\"symbol\":\"circle\"},\"mode\":\"lines\",\"name\":\"\",\"orientation\":\"v\",\"showlegend\":false,\"x\":[\"2014-01-01T00:00:00\",\"2014-02-01T00:00:00\",\"2014-03-01T00:00:00\",\"2014-04-01T00:00:00\",\"2014-05-01T00:00:00\",\"2014-06-01T00:00:00\",\"2014-07-01T00:00:00\",\"2014-08-01T00:00:00\",\"2014-09-01T00:00:00\",\"2014-10-01T00:00:00\",\"2014-11-01T00:00:00\",\"2014-12-01T00:00:00\",\"2015-01-01T00:00:00\",\"2015-02-01T00:00:00\",\"2015-03-01T00:00:00\",\"2015-04-01T00:00:00\",\"2015-05-01T00:00:00\",\"2015-06-01T00:00:00\",\"2015-07-01T00:00:00\",\"2015-08-01T00:00:00\",\"2015-09-01T00:00:00\",\"2015-10-01T00:00:00\",\"2015-11-01T00:00:00\",\"2015-12-01T00:00:00\",\"2016-01-01T00:00:00\",\"2016-02-01T00:00:00\",\"2016-03-01T00:00:00\",\"2016-04-01T00:00:00\",\"2016-05-01T00:00:00\",\"2016-06-01T00:00:00\",\"2016-07-01T00:00:00\",\"2016-08-01T00:00:00\",\"2016-09-01T00:00:00\",\"2016-10-01T00:00:00\",\"2016-11-01T00:00:00\",\"2016-12-01T00:00:00\",\"2017-01-01T00:00:00\",\"2017-02-01T00:00:00\",\"2017-03-01T00:00:00\",\"2017-04-01T00:00:00\",\"2017-05-01T00:00:00\",\"2017-06-01T00:00:00\",\"2017-07-01T00:00:00\",\"2017-08-01T00:00:00\",\"2017-09-01T00:00:00\",\"2017-10-01T00:00:00\",\"2017-11-01T00:00:00\",\"2017-12-01T00:00:00\",\"2018-01-01T00:00:00\",\"2018-02-01T00:00:00\",\"2018-03-01T00:00:00\",\"2018-04-01T00:00:00\",\"2018-05-01T00:00:00\",\"2018-06-01T00:00:00\",\"2018-07-01T00:00:00\",\"2018-08-01T00:00:00\",\"2018-09-01T00:00:00\",\"2018-10-01T00:00:00\",\"2018-11-01T00:00:00\",\"2018-12-01T00:00:00\",\"2019-01-01T00:00:00\",\"2019-02-01T00:00:00\",\"2019-03-01T00:00:00\",\"2019-04-01T00:00:00\",\"2019-05-01T00:00:00\",\"2019-06-01T00:00:00\",\"2019-07-01T00:00:00\",\"2019-08-01T00:00:00\",\"2019-09-01T00:00:00\",\"2019-10-01T00:00:00\",\"2019-11-01T00:00:00\",\"2019-12-01T00:00:00\",\"2020-01-01T00:00:00\",\"2020-02-01T00:00:00\",\"2020-03-01T00:00:00\",\"2020-04-01T00:00:00\",\"2020-05-01T00:00:00\",\"2020-06-01T00:00:00\",\"2020-07-01T00:00:00\",\"2020-08-01T00:00:00\",\"2020-09-01T00:00:00\",\"2020-10-01T00:00:00\",\"2020-11-01T00:00:00\",\"2020-12-01T00:00:00\",\"2021-01-01T00:00:00\",\"2021-02-01T00:00:00\",\"2021-03-01T00:00:00\",\"2021-04-01T00:00:00\",\"2021-05-01T00:00:00\",\"2021-06-01T00:00:00\",\"2021-07-01T00:00:00\",\"2021-08-01T00:00:00\",\"2021-09-01T00:00:00\",\"2021-10-01T00:00:00\",\"2021-11-01T00:00:00\",\"2021-12-01T00:00:00\",\"2022-01-01T00:00:00\",\"2022-02-01T00:00:00\",\"2022-03-01T00:00:00\",\"2022-04-01T00:00:00\",\"2022-05-01T00:00:00\",\"2022-06-01T00:00:00\",\"2022-07-01T00:00:00\",\"2022-08-01T00:00:00\",\"2022-09-01T00:00:00\",\"2022-10-01T00:00:00\",\"2022-11-01T00:00:00\",\"2022-12-01T00:00:00\",\"2023-01-01T00:00:00\",\"2023-02-01T00:00:00\",\"2023-03-01T00:00:00\",\"2023-04-01T00:00:00\",\"2023-05-01T00:00:00\",\"2023-06-01T00:00:00\",\"2023-07-01T00:00:00\",\"2023-08-01T00:00:00\",\"2023-09-01T00:00:00\",\"2023-10-01T00:00:00\",\"2023-11-01T00:00:00\",\"2023-12-01T00:00:00\",\"2024-01-01T00:00:00\",\"2024-02-01T00:00:00\",\"2024-03-01T00:00:00\",\"2024-04-01T00:00:00\",\"2024-05-01T00:00:00\",\"2024-06-01T00:00:00\",\"2024-07-01T00:00:00\",\"2024-08-01T00:00:00\",\"2024-09-01T00:00:00\",\"2024-10-01T00:00:00\",\"2024-11-01T00:00:00\",\"2024-12-01T00:00:00\"],\"xaxis\":\"x\",\"y\":[232.0,171.0,220.0,252.0,186.0,149.0,199.0,180.0,168.0,188.0,210.0,237.0,174.0,182.0,222.0,175.0,195.0,287.0,383.0,711.0,968.0,1073.0,1251.0,2184.0,1946.0,2499.0,4520.0,3443.0,4004.0,5119.0,4380.0,4022.0,4174.0,6336.0,4904.0,4508.0,4582.0,4411.0,5992.0,5054.0,7059.0,7509.0,9047.0,9169.0,7735.0,7660.0,10087.0,9115.0,9003.0,7372.0,7696.0,7335.0,8261.0,8833.0,11397.0,11792.0,13588.0,14986.0,14112.0,15879.0,13379.0,12228.0,15154.0,11185.0,10082.0,11159.0,12479.0,13252.0,16145.0,15720.0,19006.0,17030.0,16865.0,16569.0,14066.0,975.0,1311.0,6486.0,7799.0,8558.0,11355.0,11456.0,13390.0,15860.0,17025.0,20073.0,28115.0,15020.0,3602.0,12317.0,28146.0,30818.0,36604.0,40952.0,45077.0,53749.0,51476.0,58056.0,83080.0,77522.0,69916.0,75852.0,80887.0,89012.0,94903.0,117486.0,121570.0,104963.0,102840.0,107178.0,140823.0,111233.0,158131.0,102043.0,115756.0,126509.0,127793.0,139232.0,152610.0,141034.0,143182.0,140476.0,205208.0,117659.0,142891.0,143057.0,185191.0,163250.0,165730.0,226876.0,197935.0,149232.0],\"yaxis\":\"y\",\"type\":\"scatter\"}],                        {\"template\":{\"data\":{\"histogram2dcontour\":[{\"type\":\"histogram2dcontour\",\"colorbar\":{\"outlinewidth\":0,\"ticks\":\"\"},\"colorscale\":[[0.0,\"#0d0887\"],[0.1111111111111111,\"#46039f\"],[0.2222222222222222,\"#7201a8\"],[0.3333333333333333,\"#9c179e\"],[0.4444444444444444,\"#bd3786\"],[0.5555555555555556,\"#d8576b\"],[0.6666666666666666,\"#ed7953\"],[0.7777777777777778,\"#fb9f3a\"],[0.8888888888888888,\"#fdca26\"],[1.0,\"#f0f921\"]]}],\"choropleth\":[{\"type\":\"choropleth\",\"colorbar\":{\"outlinewidth\":0,\"ticks\":\"\"}}],\"histogram2d\":[{\"type\":\"histogram2d\",\"colorbar\":{\"outlinewidth\":0,\"ticks\":\"\"},\"colorscale\":[[0.0,\"#0d0887\"],[0.1111111111111111,\"#46039f\"],[0.2222222222222222,\"#7201a8\"],[0.3333333333333333,\"#9c179e\"],[0.4444444444444444,\"#bd3786\"],[0.5555555555555556,\"#d8576b\"],[0.6666666666666666,\"#ed7953\"],[0.7777777777777778,\"#fb9f3a\"],[0.8888888888888888,\"#fdca26\"],[1.0,\"#f0f921\"]]}],\"heatmap\":[{\"type\":\"heatmap\",\"colorbar\":{\"outlinewidth\":0,\"ticks\":\"\"},\"colorscale\":[[0.0,\"#0d0887\"],[0.1111111111111111,\"#46039f\"],[0.2222222222222222,\"#7201a8\"],[0.3333333333333333,\"#9c179e\"],[0.4444444444444444,\"#bd3786\"],[0.5555555555555556,\"#d8576b\"],[0.6666666666666666,\"#ed7953\"],[0.7777777777777778,\"#fb9f3a\"],[0.8888888888888888,\"#fdca26\"],[1.0,\"#f0f921\"]]}],\"heatmapgl\":[{\"type\":\"heatmapgl\",\"colorbar\":{\"outlinewidth\":0,\"ticks\":\"\"},\"colorscale\":[[0.0,\"#0d0887\"],[0.1111111111111111,\"#46039f\"],[0.2222222222222222,\"#7201a8\"],[0.3333333333333333,\"#9c179e\"],[0.4444444444444444,\"#bd3786\"],[0.5555555555555556,\"#d8576b\"],[0.6666666666666666,\"#ed7953\"],[0.7777777777777778,\"#fb9f3a\"],[0.8888888888888888,\"#fdca26\"],[1.0,\"#f0f921\"]]}],\"contourcarpet\":[{\"type\":\"contourcarpet\",\"colorbar\":{\"outlinewidth\":0,\"ticks\":\"\"}}],\"contour\":[{\"type\":\"contour\",\"colorbar\":{\"outlinewidth\":0,\"ticks\":\"\"},\"colorscale\":[[0.0,\"#0d0887\"],[0.1111111111111111,\"#46039f\"],[0.2222222222222222,\"#7201a8\"],[0.3333333333333333,\"#9c179e\"],[0.4444444444444444,\"#bd3786\"],[0.5555555555555556,\"#d8576b\"],[0.6666666666666666,\"#ed7953\"],[0.7777777777777778,\"#fb9f3a\"],[0.8888888888888888,\"#fdca26\"],[1.0,\"#f0f921\"]]}],\"surface\":[{\"type\":\"surface\",\"colorbar\":{\"outlinewidth\":0,\"ticks\":\"\"},\"colorscale\":[[0.0,\"#0d0887\"],[0.1111111111111111,\"#46039f\"],[0.2222222222222222,\"#7201a8\"],[0.3333333333333333,\"#9c179e\"],[0.4444444444444444,\"#bd3786\"],[0.5555555555555556,\"#d8576b\"],[0.6666666666666666,\"#ed7953\"],[0.7777777777777778,\"#fb9f3a\"],[0.8888888888888888,\"#fdca26\"],[1.0,\"#f0f921\"]]}],\"mesh3d\":[{\"type\":\"mesh3d\",\"colorbar\":{\"outlinewidth\":0,\"ticks\":\"\"}}],\"scatter\":[{\"fillpattern\":{\"fillmode\":\"overlay\",\"size\":10,\"solidity\":0.2},\"type\":\"scatter\"}],\"parcoords\":[{\"type\":\"parcoords\",\"line\":{\"colorbar\":{\"outlinewidth\":0,\"ticks\":\"\"}}}],\"scatterpolargl\":[{\"type\":\"scatterpolargl\",\"marker\":{\"colorbar\":{\"outlinewidth\":0,\"ticks\":\"\"}}}],\"bar\":[{\"error_x\":{\"color\":\"#2a3f5f\"},\"error_y\":{\"color\":\"#2a3f5f\"},\"marker\":{\"line\":{\"color\":\"#E5ECF6\",\"width\":0.5},\"pattern\":{\"fillmode\":\"overlay\",\"size\":10,\"solidity\":0.2}},\"type\":\"bar\"}],\"scattergeo\":[{\"type\":\"scattergeo\",\"marker\":{\"colorbar\":{\"outlinewidth\":0,\"ticks\":\"\"}}}],\"scatterpolar\":[{\"type\":\"scatterpolar\",\"marker\":{\"colorbar\":{\"outlinewidth\":0,\"ticks\":\"\"}}}],\"histogram\":[{\"marker\":{\"pattern\":{\"fillmode\":\"overlay\",\"size\":10,\"solidity\":0.2}},\"type\":\"histogram\"}],\"scattergl\":[{\"type\":\"scattergl\",\"marker\":{\"colorbar\":{\"outlinewidth\":0,\"ticks\":\"\"}}}],\"scatter3d\":[{\"type\":\"scatter3d\",\"line\":{\"colorbar\":{\"outlinewidth\":0,\"ticks\":\"\"}},\"marker\":{\"colorbar\":{\"outlinewidth\":0,\"ticks\":\"\"}}}],\"scattermapbox\":[{\"type\":\"scattermapbox\",\"marker\":{\"colorbar\":{\"outlinewidth\":0,\"ticks\":\"\"}}}],\"scatterternary\":[{\"type\":\"scatterternary\",\"marker\":{\"colorbar\":{\"outlinewidth\":0,\"ticks\":\"\"}}}],\"scattercarpet\":[{\"type\":\"scattercarpet\",\"marker\":{\"colorbar\":{\"outlinewidth\":0,\"ticks\":\"\"}}}],\"carpet\":[{\"aaxis\":{\"endlinecolor\":\"#2a3f5f\",\"gridcolor\":\"white\",\"linecolor\":\"white\",\"minorgridcolor\":\"white\",\"startlinecolor\":\"#2a3f5f\"},\"baxis\":{\"endlinecolor\":\"#2a3f5f\",\"gridcolor\":\"white\",\"linecolor\":\"white\",\"minorgridcolor\":\"white\",\"startlinecolor\":\"#2a3f5f\"},\"type\":\"carpet\"}],\"table\":[{\"cells\":{\"fill\":{\"color\":\"#EBF0F8\"},\"line\":{\"color\":\"white\"}},\"header\":{\"fill\":{\"color\":\"#C8D4E3\"},\"line\":{\"color\":\"white\"}},\"type\":\"table\"}],\"barpolar\":[{\"marker\":{\"line\":{\"color\":\"#E5ECF6\",\"width\":0.5},\"pattern\":{\"fillmode\":\"overlay\",\"size\":10,\"solidity\":0.2}},\"type\":\"barpolar\"}],\"pie\":[{\"automargin\":true,\"type\":\"pie\"}]},\"layout\":{\"autotypenumbers\":\"strict\",\"colorway\":[\"#636efa\",\"#EF553B\",\"#00cc96\",\"#ab63fa\",\"#FFA15A\",\"#19d3f3\",\"#FF6692\",\"#B6E880\",\"#FF97FF\",\"#FECB52\"],\"font\":{\"color\":\"#2a3f5f\"},\"hovermode\":\"closest\",\"hoverlabel\":{\"align\":\"left\"},\"paper_bgcolor\":\"white\",\"plot_bgcolor\":\"#E5ECF6\",\"polar\":{\"bgcolor\":\"#E5ECF6\",\"angularaxis\":{\"gridcolor\":\"white\",\"linecolor\":\"white\",\"ticks\":\"\"},\"radialaxis\":{\"gridcolor\":\"white\",\"linecolor\":\"white\",\"ticks\":\"\"}},\"ternary\":{\"bgcolor\":\"#E5ECF6\",\"aaxis\":{\"gridcolor\":\"white\",\"linecolor\":\"white\",\"ticks\":\"\"},\"baxis\":{\"gridcolor\":\"white\",\"linecolor\":\"white\",\"ticks\":\"\"},\"caxis\":{\"gridcolor\":\"white\",\"linecolor\":\"white\",\"ticks\":\"\"}},\"coloraxis\":{\"colorbar\":{\"outlinewidth\":0,\"ticks\":\"\"}},\"colorscale\":{\"sequential\":[[0.0,\"#0d0887\"],[0.1111111111111111,\"#46039f\"],[0.2222222222222222,\"#7201a8\"],[0.3333333333333333,\"#9c179e\"],[0.4444444444444444,\"#bd3786\"],[0.5555555555555556,\"#d8576b\"],[0.6666666666666666,\"#ed7953\"],[0.7777777777777778,\"#fb9f3a\"],[0.8888888888888888,\"#fdca26\"],[1.0,\"#f0f921\"]],\"sequentialminus\":[[0.0,\"#0d0887\"],[0.1111111111111111,\"#46039f\"],[0.2222222222222222,\"#7201a8\"],[0.3333333333333333,\"#9c179e\"],[0.4444444444444444,\"#bd3786\"],[0.5555555555555556,\"#d8576b\"],[0.6666666666666666,\"#ed7953\"],[0.7777777777777778,\"#fb9f3a\"],[0.8888888888888888,\"#fdca26\"],[1.0,\"#f0f921\"]],\"diverging\":[[0,\"#8e0152\"],[0.1,\"#c51b7d\"],[0.2,\"#de77ae\"],[0.3,\"#f1b6da\"],[0.4,\"#fde0ef\"],[0.5,\"#f7f7f7\"],[0.6,\"#e6f5d0\"],[0.7,\"#b8e186\"],[0.8,\"#7fbc41\"],[0.9,\"#4d9221\"],[1,\"#276419\"]]},\"xaxis\":{\"gridcolor\":\"white\",\"linecolor\":\"white\",\"ticks\":\"\",\"title\":{\"standoff\":15},\"zerolinecolor\":\"white\",\"automargin\":true,\"zerolinewidth\":2},\"yaxis\":{\"gridcolor\":\"white\",\"linecolor\":\"white\",\"ticks\":\"\",\"title\":{\"standoff\":15},\"zerolinecolor\":\"white\",\"automargin\":true,\"zerolinewidth\":2},\"scene\":{\"xaxis\":{\"backgroundcolor\":\"#E5ECF6\",\"gridcolor\":\"white\",\"linecolor\":\"white\",\"showbackground\":true,\"ticks\":\"\",\"zerolinecolor\":\"white\",\"gridwidth\":2},\"yaxis\":{\"backgroundcolor\":\"#E5ECF6\",\"gridcolor\":\"white\",\"linecolor\":\"white\",\"showbackground\":true,\"ticks\":\"\",\"zerolinecolor\":\"white\",\"gridwidth\":2},\"zaxis\":{\"backgroundcolor\":\"#E5ECF6\",\"gridcolor\":\"white\",\"linecolor\":\"white\",\"showbackground\":true,\"ticks\":\"\",\"zerolinecolor\":\"white\",\"gridwidth\":2}},\"shapedefaults\":{\"line\":{\"color\":\"#2a3f5f\"}},\"annotationdefaults\":{\"arrowcolor\":\"#2a3f5f\",\"arrowhead\":0,\"arrowwidth\":1},\"geo\":{\"bgcolor\":\"white\",\"landcolor\":\"#E5ECF6\",\"subunitcolor\":\"white\",\"showland\":true,\"showlakes\":true,\"lakecolor\":\"white\"},\"title\":{\"x\":0.05},\"mapbox\":{\"style\":\"light\"}}},\"xaxis\":{\"anchor\":\"y\",\"domain\":[0.0,1.0],\"title\":{\"text\":\"Month_start\"}},\"yaxis\":{\"anchor\":\"x\",\"domain\":[0.0,1.0],\"title\":{\"text\":\"Total_EV\"}},\"legend\":{\"tracegroupgap\":0},\"title\":{\"text\":\"EV Adoption Trend in India\"}},                        {\"responsive\": true}                    ).then(function(){\n",
              "                            \n",
              "var gd = document.getElementById('0d3b404a-eac4-4ddc-a106-2eab1edded15');\n",
              "var x = new MutationObserver(function (mutations, observer) {{\n",
              "        var display = window.getComputedStyle(gd).display;\n",
              "        if (!display || display === 'none') {{\n",
              "            console.log([gd, 'removed!']);\n",
              "            Plotly.purge(gd);\n",
              "            observer.disconnect();\n",
              "        }}\n",
              "}});\n",
              "\n",
              "// Listen for the removal of the full notebook cells\n",
              "var notebookContainer = gd.closest('#notebook-container');\n",
              "if (notebookContainer) {{\n",
              "    x.observe(notebookContainer, {childList: true});\n",
              "}}\n",
              "\n",
              "// Listen for the clearing of the current output cell\n",
              "var outputEl = gd.closest('.output');\n",
              "if (outputEl) {{\n",
              "    x.observe(outputEl, {childList: true});\n",
              "}}\n",
              "\n",
              "                        })                };                            </script>        </div>\n",
              "</body>\n",
              "</html>"
            ]
          },
          "metadata": {}
        }
      ],
      "source": [
        "import plotly.express as px\n",
        "# Monthly trend using df\n",
        "monthly_trend = df.groupby('Month_start')['Total_EV'].sum().reset_index()\n",
        "fig = px.line(monthly_trend, x='Month_start', y='Total_EV', title=\"EV Adoption Trend in India\")\n",
        "fig.show()\n",
        "\n"
      ]
    },
    {
      "cell_type": "markdown",
      "source": [
        "This plot visualizes the monthly trend of electric vehicle (EV) adoption in India over time. It shows the total number of EVs registered each month, providing insights into the growth and seasonality of the EV market. The x-axis represents the month and year, and the y-axis represents the total number of EVs."
      ],
      "metadata": {
        "id": "rSfwPZi89Cy6"
      },
      "id": "rSfwPZi89Cy6"
    },
    {
      "cell_type": "code",
      "source": [
        "# Statewise bar plot using statewise Series\n",
        "fig = px.bar(x=statewise.index, y=statewise.values, title=\"State-wise EV Adoption\")\n",
        "fig.update_layout(xaxis_title=\"State\", yaxis_title=\"Total EVs\")\n",
        "fig.show()"
      ],
      "metadata": {
        "colab": {
          "base_uri": "https://localhost:8080/",
          "height": 542
        },
        "id": "s9gSF8Qv8tKY",
        "outputId": "919ad2cb-6e37-4148-d36e-904184dc6d9d"
      },
      "id": "s9gSF8Qv8tKY",
      "execution_count": null,
      "outputs": [
        {
          "output_type": "display_data",
          "data": {
            "text/html": [
              "<html>\n",
              "<head><meta charset=\"utf-8\" /></head>\n",
              "<body>\n",
              "    <div>            <script src=\"https://cdnjs.cloudflare.com/ajax/libs/mathjax/2.7.5/MathJax.js?config=TeX-AMS-MML_SVG\"></script><script type=\"text/javascript\">if (window.MathJax && window.MathJax.Hub && window.MathJax.Hub.Config) {window.MathJax.Hub.Config({SVG: {font: \"STIX-Web\"}});}</script>                <script type=\"text/javascript\">window.PlotlyConfig = {MathJaxConfig: 'local'};</script>\n",
              "        <script charset=\"utf-8\" src=\"https://cdn.plot.ly/plotly-2.35.2.min.js\"></script>                <div id=\"cce16e97-cc4a-46f7-84db-33104ea04565\" class=\"plotly-graph-div\" style=\"height:525px; width:100%;\"></div>            <script type=\"text/javascript\">                                    window.PLOTLYENV=window.PLOTLYENV || {};                                    if (document.getElementById(\"cce16e97-cc4a-46f7-84db-33104ea04565\")) {                    Plotly.newPlot(                        \"cce16e97-cc4a-46f7-84db-33104ea04565\",                        [{\"alignmentgroup\":\"True\",\"hovertemplate\":\"x=%{x}\\u003cbr\\u003ey=%{y}\\u003cextra\\u003e\\u003c\\u002fextra\\u003e\",\"legendgroup\":\"\",\"marker\":{\"color\":\"#636efa\",\"pattern\":{\"shape\":\"\"}},\"name\":\"\",\"offsetgroup\":\"\",\"orientation\":\"v\",\"showlegend\":false,\"textposition\":\"auto\",\"x\":[\"Uttar Pradesh\",\"Maharashtra\",\"Karnataka\",\"Delhi\",\"Tamil Nadu\",\"Rajasthan\",\"Bihar\",\"Gujarat\",\"Madhya Pradesh\",\"Assam\",\"Kerala\",\"Odisha\",\"Andhra Pradesh\",\"Haryana\",\"West Bengal\",\"Chhattisgarh\",\"Punjab\",\"Uttarakhand\",\"Jharkhand\",\"Jammu And Kashmir\",\"Goa\",\"Tripura\",\"Chandigarh\",\"Puducherry\",\"Himachal Pradesh\",\"Manipur\",\"Meghalaya\",\"Dnh And Dd\",\"Mizoram\",\"Andaman & Nicobar Island\",\"Arunachal Pradesh\",\"Nagaland\",\"Ladakh\",\"Sikkim\",\"Lakshadweep\"],\"xaxis\":\"x\",\"y\":[1076713.0,632542.0,482954.0,345794.0,333665.0,332463.0,318121.0,250770.0,225463.0,216080.0,208257.0,140433.0,132154.0,129475.0,121927.0,119698.0,93976.0,76599.0,72363.0,29093.0,28128.0,27438.0,17760.0,9551.0,4887.0,1699.0,1015.0,888.0,780.0,281.0,133.0,100.0,93.0,21.0,11.0],\"yaxis\":\"y\",\"type\":\"bar\"}],                        {\"template\":{\"data\":{\"histogram2dcontour\":[{\"type\":\"histogram2dcontour\",\"colorbar\":{\"outlinewidth\":0,\"ticks\":\"\"},\"colorscale\":[[0.0,\"#0d0887\"],[0.1111111111111111,\"#46039f\"],[0.2222222222222222,\"#7201a8\"],[0.3333333333333333,\"#9c179e\"],[0.4444444444444444,\"#bd3786\"],[0.5555555555555556,\"#d8576b\"],[0.6666666666666666,\"#ed7953\"],[0.7777777777777778,\"#fb9f3a\"],[0.8888888888888888,\"#fdca26\"],[1.0,\"#f0f921\"]]}],\"choropleth\":[{\"type\":\"choropleth\",\"colorbar\":{\"outlinewidth\":0,\"ticks\":\"\"}}],\"histogram2d\":[{\"type\":\"histogram2d\",\"colorbar\":{\"outlinewidth\":0,\"ticks\":\"\"},\"colorscale\":[[0.0,\"#0d0887\"],[0.1111111111111111,\"#46039f\"],[0.2222222222222222,\"#7201a8\"],[0.3333333333333333,\"#9c179e\"],[0.4444444444444444,\"#bd3786\"],[0.5555555555555556,\"#d8576b\"],[0.6666666666666666,\"#ed7953\"],[0.7777777777777778,\"#fb9f3a\"],[0.8888888888888888,\"#fdca26\"],[1.0,\"#f0f921\"]]}],\"heatmap\":[{\"type\":\"heatmap\",\"colorbar\":{\"outlinewidth\":0,\"ticks\":\"\"},\"colorscale\":[[0.0,\"#0d0887\"],[0.1111111111111111,\"#46039f\"],[0.2222222222222222,\"#7201a8\"],[0.3333333333333333,\"#9c179e\"],[0.4444444444444444,\"#bd3786\"],[0.5555555555555556,\"#d8576b\"],[0.6666666666666666,\"#ed7953\"],[0.7777777777777778,\"#fb9f3a\"],[0.8888888888888888,\"#fdca26\"],[1.0,\"#f0f921\"]]}],\"heatmapgl\":[{\"type\":\"heatmapgl\",\"colorbar\":{\"outlinewidth\":0,\"ticks\":\"\"},\"colorscale\":[[0.0,\"#0d0887\"],[0.1111111111111111,\"#46039f\"],[0.2222222222222222,\"#7201a8\"],[0.3333333333333333,\"#9c179e\"],[0.4444444444444444,\"#bd3786\"],[0.5555555555555556,\"#d8576b\"],[0.6666666666666666,\"#ed7953\"],[0.7777777777777778,\"#fb9f3a\"],[0.8888888888888888,\"#fdca26\"],[1.0,\"#f0f921\"]]}],\"contourcarpet\":[{\"type\":\"contourcarpet\",\"colorbar\":{\"outlinewidth\":0,\"ticks\":\"\"}}],\"contour\":[{\"type\":\"contour\",\"colorbar\":{\"outlinewidth\":0,\"ticks\":\"\"},\"colorscale\":[[0.0,\"#0d0887\"],[0.1111111111111111,\"#46039f\"],[0.2222222222222222,\"#7201a8\"],[0.3333333333333333,\"#9c179e\"],[0.4444444444444444,\"#bd3786\"],[0.5555555555555556,\"#d8576b\"],[0.6666666666666666,\"#ed7953\"],[0.7777777777777778,\"#fb9f3a\"],[0.8888888888888888,\"#fdca26\"],[1.0,\"#f0f921\"]]}],\"surface\":[{\"type\":\"surface\",\"colorbar\":{\"outlinewidth\":0,\"ticks\":\"\"},\"colorscale\":[[0.0,\"#0d0887\"],[0.1111111111111111,\"#46039f\"],[0.2222222222222222,\"#7201a8\"],[0.3333333333333333,\"#9c179e\"],[0.4444444444444444,\"#bd3786\"],[0.5555555555555556,\"#d8576b\"],[0.6666666666666666,\"#ed7953\"],[0.7777777777777778,\"#fb9f3a\"],[0.8888888888888888,\"#fdca26\"],[1.0,\"#f0f921\"]]}],\"mesh3d\":[{\"type\":\"mesh3d\",\"colorbar\":{\"outlinewidth\":0,\"ticks\":\"\"}}],\"scatter\":[{\"fillpattern\":{\"fillmode\":\"overlay\",\"size\":10,\"solidity\":0.2},\"type\":\"scatter\"}],\"parcoords\":[{\"type\":\"parcoords\",\"line\":{\"colorbar\":{\"outlinewidth\":0,\"ticks\":\"\"}}}],\"scatterpolargl\":[{\"type\":\"scatterpolargl\",\"marker\":{\"colorbar\":{\"outlinewidth\":0,\"ticks\":\"\"}}}],\"bar\":[{\"error_x\":{\"color\":\"#2a3f5f\"},\"error_y\":{\"color\":\"#2a3f5f\"},\"marker\":{\"line\":{\"color\":\"#E5ECF6\",\"width\":0.5},\"pattern\":{\"fillmode\":\"overlay\",\"size\":10,\"solidity\":0.2}},\"type\":\"bar\"}],\"scattergeo\":[{\"type\":\"scattergeo\",\"marker\":{\"colorbar\":{\"outlinewidth\":0,\"ticks\":\"\"}}}],\"scatterpolar\":[{\"type\":\"scatterpolar\",\"marker\":{\"colorbar\":{\"outlinewidth\":0,\"ticks\":\"\"}}}],\"histogram\":[{\"marker\":{\"pattern\":{\"fillmode\":\"overlay\",\"size\":10,\"solidity\":0.2}},\"type\":\"histogram\"}],\"scattergl\":[{\"type\":\"scattergl\",\"marker\":{\"colorbar\":{\"outlinewidth\":0,\"ticks\":\"\"}}}],\"scatter3d\":[{\"type\":\"scatter3d\",\"line\":{\"colorbar\":{\"outlinewidth\":0,\"ticks\":\"\"}},\"marker\":{\"colorbar\":{\"outlinewidth\":0,\"ticks\":\"\"}}}],\"scattermapbox\":[{\"type\":\"scattermapbox\",\"marker\":{\"colorbar\":{\"outlinewidth\":0,\"ticks\":\"\"}}}],\"scatterternary\":[{\"type\":\"scatterternary\",\"marker\":{\"colorbar\":{\"outlinewidth\":0,\"ticks\":\"\"}}}],\"scattercarpet\":[{\"type\":\"scattercarpet\",\"marker\":{\"colorbar\":{\"outlinewidth\":0,\"ticks\":\"\"}}}],\"carpet\":[{\"aaxis\":{\"endlinecolor\":\"#2a3f5f\",\"gridcolor\":\"white\",\"linecolor\":\"white\",\"minorgridcolor\":\"white\",\"startlinecolor\":\"#2a3f5f\"},\"baxis\":{\"endlinecolor\":\"#2a3f5f\",\"gridcolor\":\"white\",\"linecolor\":\"white\",\"minorgridcolor\":\"white\",\"startlinecolor\":\"#2a3f5f\"},\"type\":\"carpet\"}],\"table\":[{\"cells\":{\"fill\":{\"color\":\"#EBF0F8\"},\"line\":{\"color\":\"white\"}},\"header\":{\"fill\":{\"color\":\"#C8D4E3\"},\"line\":{\"color\":\"white\"}},\"type\":\"table\"}],\"barpolar\":[{\"marker\":{\"line\":{\"color\":\"#E5ECF6\",\"width\":0.5},\"pattern\":{\"fillmode\":\"overlay\",\"size\":10,\"solidity\":0.2}},\"type\":\"barpolar\"}],\"pie\":[{\"automargin\":true,\"type\":\"pie\"}]},\"layout\":{\"autotypenumbers\":\"strict\",\"colorway\":[\"#636efa\",\"#EF553B\",\"#00cc96\",\"#ab63fa\",\"#FFA15A\",\"#19d3f3\",\"#FF6692\",\"#B6E880\",\"#FF97FF\",\"#FECB52\"],\"font\":{\"color\":\"#2a3f5f\"},\"hovermode\":\"closest\",\"hoverlabel\":{\"align\":\"left\"},\"paper_bgcolor\":\"white\",\"plot_bgcolor\":\"#E5ECF6\",\"polar\":{\"bgcolor\":\"#E5ECF6\",\"angularaxis\":{\"gridcolor\":\"white\",\"linecolor\":\"white\",\"ticks\":\"\"},\"radialaxis\":{\"gridcolor\":\"white\",\"linecolor\":\"white\",\"ticks\":\"\"}},\"ternary\":{\"bgcolor\":\"#E5ECF6\",\"aaxis\":{\"gridcolor\":\"white\",\"linecolor\":\"white\",\"ticks\":\"\"},\"baxis\":{\"gridcolor\":\"white\",\"linecolor\":\"white\",\"ticks\":\"\"},\"caxis\":{\"gridcolor\":\"white\",\"linecolor\":\"white\",\"ticks\":\"\"}},\"coloraxis\":{\"colorbar\":{\"outlinewidth\":0,\"ticks\":\"\"}},\"colorscale\":{\"sequential\":[[0.0,\"#0d0887\"],[0.1111111111111111,\"#46039f\"],[0.2222222222222222,\"#7201a8\"],[0.3333333333333333,\"#9c179e\"],[0.4444444444444444,\"#bd3786\"],[0.5555555555555556,\"#d8576b\"],[0.6666666666666666,\"#ed7953\"],[0.7777777777777778,\"#fb9f3a\"],[0.8888888888888888,\"#fdca26\"],[1.0,\"#f0f921\"]],\"sequentialminus\":[[0.0,\"#0d0887\"],[0.1111111111111111,\"#46039f\"],[0.2222222222222222,\"#7201a8\"],[0.3333333333333333,\"#9c179e\"],[0.4444444444444444,\"#bd3786\"],[0.5555555555555556,\"#d8576b\"],[0.6666666666666666,\"#ed7953\"],[0.7777777777777778,\"#fb9f3a\"],[0.8888888888888888,\"#fdca26\"],[1.0,\"#f0f921\"]],\"diverging\":[[0,\"#8e0152\"],[0.1,\"#c51b7d\"],[0.2,\"#de77ae\"],[0.3,\"#f1b6da\"],[0.4,\"#fde0ef\"],[0.5,\"#f7f7f7\"],[0.6,\"#e6f5d0\"],[0.7,\"#b8e186\"],[0.8,\"#7fbc41\"],[0.9,\"#4d9221\"],[1,\"#276419\"]]},\"xaxis\":{\"gridcolor\":\"white\",\"linecolor\":\"white\",\"ticks\":\"\",\"title\":{\"standoff\":15},\"zerolinecolor\":\"white\",\"automargin\":true,\"zerolinewidth\":2},\"yaxis\":{\"gridcolor\":\"white\",\"linecolor\":\"white\",\"ticks\":\"\",\"title\":{\"standoff\":15},\"zerolinecolor\":\"white\",\"automargin\":true,\"zerolinewidth\":2},\"scene\":{\"xaxis\":{\"backgroundcolor\":\"#E5ECF6\",\"gridcolor\":\"white\",\"linecolor\":\"white\",\"showbackground\":true,\"ticks\":\"\",\"zerolinecolor\":\"white\",\"gridwidth\":2},\"yaxis\":{\"backgroundcolor\":\"#E5ECF6\",\"gridcolor\":\"white\",\"linecolor\":\"white\",\"showbackground\":true,\"ticks\":\"\",\"zerolinecolor\":\"white\",\"gridwidth\":2},\"zaxis\":{\"backgroundcolor\":\"#E5ECF6\",\"gridcolor\":\"white\",\"linecolor\":\"white\",\"showbackground\":true,\"ticks\":\"\",\"zerolinecolor\":\"white\",\"gridwidth\":2}},\"shapedefaults\":{\"line\":{\"color\":\"#2a3f5f\"}},\"annotationdefaults\":{\"arrowcolor\":\"#2a3f5f\",\"arrowhead\":0,\"arrowwidth\":1},\"geo\":{\"bgcolor\":\"white\",\"landcolor\":\"#E5ECF6\",\"subunitcolor\":\"white\",\"showland\":true,\"showlakes\":true,\"lakecolor\":\"white\"},\"title\":{\"x\":0.05},\"mapbox\":{\"style\":\"light\"}}},\"xaxis\":{\"anchor\":\"y\",\"domain\":[0.0,1.0],\"title\":{\"text\":\"State\"}},\"yaxis\":{\"anchor\":\"x\",\"domain\":[0.0,1.0],\"title\":{\"text\":\"Total EVs\"}},\"legend\":{\"tracegroupgap\":0},\"title\":{\"text\":\"State-wise EV Adoption\"},\"barmode\":\"relative\"},                        {\"responsive\": true}                    ).then(function(){\n",
              "                            \n",
              "var gd = document.getElementById('cce16e97-cc4a-46f7-84db-33104ea04565');\n",
              "var x = new MutationObserver(function (mutations, observer) {{\n",
              "        var display = window.getComputedStyle(gd).display;\n",
              "        if (!display || display === 'none') {{\n",
              "            console.log([gd, 'removed!']);\n",
              "            Plotly.purge(gd);\n",
              "            observer.disconnect();\n",
              "        }}\n",
              "}});\n",
              "\n",
              "// Listen for the removal of the full notebook cells\n",
              "var notebookContainer = gd.closest('#notebook-container');\n",
              "if (notebookContainer) {{\n",
              "    x.observe(notebookContainer, {childList: true});\n",
              "}}\n",
              "\n",
              "// Listen for the clearing of the current output cell\n",
              "var outputEl = gd.closest('.output');\n",
              "if (outputEl) {{\n",
              "    x.observe(outputEl, {childList: true});\n",
              "}}\n",
              "\n",
              "                        })                };                            </script>        </div>\n",
              "</body>\n",
              "</html>"
            ]
          },
          "metadata": {}
        }
      ]
    },
    {
      "cell_type": "markdown",
      "source": [
        "This bar chart shows the total number of electric vehicles (EVs) adopted in each state of India. The x-axis represents the different states, and the y-axis represents the total number of EVs registered in that state. This visualization helps to identify which states are leading in EV adoption and which states have lower adoption rates."
      ],
      "metadata": {
        "id": "S3bPeGLY9XsQ"
      },
      "id": "S3bPeGLY9XsQ"
    },
    {
      "cell_type": "code",
      "execution_count": null,
      "id": "c82ef671",
      "metadata": {
        "colab": {
          "base_uri": "https://localhost:8080/"
        },
        "id": "c82ef671",
        "outputId": "8e09c590-4763-4f25-eef1-20750d29d14d"
      },
      "outputs": [
        {
          "output_type": "stream",
          "name": "stdout",
          "text": [
            " The highest Ev Adoption : Uttar Pradesh \n",
            " The EV class has the highest adoption in that state is : ELECTRIC(BOV)\n"
          ]
        }
      ],
      "source": [
        "# Find the state with the highest EV adoption\n",
        "highest_ev_state = statewise.idxmax()\n",
        "\n",
        "# Which EV class has the highest adoption in that state\n",
        "highest_ev_class = df[df['State'] == highest_ev_state][['ELECTRIC(BOV)', 'PLUG-IN HYBRID EV', 'PURE EV', 'STRONG HYBRID EV']].sum().idxmax()\n",
        "print(\" The highest Ev Adoption :\",highest_ev_state,\"\\n\",\"The EV class has the highest adoption in that state is :\",highest_ev_class)"
      ]
    },
    {
      "cell_type": "code",
      "execution_count": null,
      "id": "74d41358",
      "metadata": {
        "colab": {
          "base_uri": "https://localhost:8080/",
          "height": 542
        },
        "id": "74d41358",
        "outputId": "99a40a42-1600-438a-e640-20cdb17df02f"
      },
      "outputs": [
        {
          "output_type": "display_data",
          "data": {
            "text/html": [
              "<html>\n",
              "<head><meta charset=\"utf-8\" /></head>\n",
              "<body>\n",
              "    <div>            <script src=\"https://cdnjs.cloudflare.com/ajax/libs/mathjax/2.7.5/MathJax.js?config=TeX-AMS-MML_SVG\"></script><script type=\"text/javascript\">if (window.MathJax && window.MathJax.Hub && window.MathJax.Hub.Config) {window.MathJax.Hub.Config({SVG: {font: \"STIX-Web\"}});}</script>                <script type=\"text/javascript\">window.PlotlyConfig = {MathJaxConfig: 'local'};</script>\n",
              "        <script charset=\"utf-8\" src=\"https://cdn.plot.ly/plotly-2.35.2.min.js\"></script>                <div id=\"c2249e5f-c1a0-4d08-8b75-27375fded690\" class=\"plotly-graph-div\" style=\"height:525px; width:100%;\"></div>            <script type=\"text/javascript\">                                    window.PLOTLYENV=window.PLOTLYENV || {};                                    if (document.getElementById(\"c2249e5f-c1a0-4d08-8b75-27375fded690\")) {                    Plotly.newPlot(                        \"c2249e5f-c1a0-4d08-8b75-27375fded690\",                        [{\"alignmentgroup\":\"True\",\"hovertemplate\":\"variable=0\\u003cbr\\u003eindex=%{x}\\u003cbr\\u003evalue=%{y}\\u003cextra\\u003e\\u003c\\u002fextra\\u003e\",\"legendgroup\":\"0\",\"marker\":{\"color\":\"#636efa\",\"pattern\":{\"shape\":\"\"}},\"name\":\"0\",\"offsetgroup\":\"0\",\"orientation\":\"v\",\"showlegend\":true,\"textposition\":\"auto\",\"x\":[\"ELECTRIC(BOV)\",\"PLUG-IN HYBRID EV\",\"PURE EV\",\"STRONG HYBRID EV\"],\"xaxis\":\"x\",\"y\":[1004980.0,3.0,65110.0,6620.0],\"yaxis\":\"y\",\"type\":\"bar\"}],                        {\"template\":{\"data\":{\"histogram2dcontour\":[{\"type\":\"histogram2dcontour\",\"colorbar\":{\"outlinewidth\":0,\"ticks\":\"\"},\"colorscale\":[[0.0,\"#0d0887\"],[0.1111111111111111,\"#46039f\"],[0.2222222222222222,\"#7201a8\"],[0.3333333333333333,\"#9c179e\"],[0.4444444444444444,\"#bd3786\"],[0.5555555555555556,\"#d8576b\"],[0.6666666666666666,\"#ed7953\"],[0.7777777777777778,\"#fb9f3a\"],[0.8888888888888888,\"#fdca26\"],[1.0,\"#f0f921\"]]}],\"choropleth\":[{\"type\":\"choropleth\",\"colorbar\":{\"outlinewidth\":0,\"ticks\":\"\"}}],\"histogram2d\":[{\"type\":\"histogram2d\",\"colorbar\":{\"outlinewidth\":0,\"ticks\":\"\"},\"colorscale\":[[0.0,\"#0d0887\"],[0.1111111111111111,\"#46039f\"],[0.2222222222222222,\"#7201a8\"],[0.3333333333333333,\"#9c179e\"],[0.4444444444444444,\"#bd3786\"],[0.5555555555555556,\"#d8576b\"],[0.6666666666666666,\"#ed7953\"],[0.7777777777777778,\"#fb9f3a\"],[0.8888888888888888,\"#fdca26\"],[1.0,\"#f0f921\"]]}],\"heatmap\":[{\"type\":\"heatmap\",\"colorbar\":{\"outlinewidth\":0,\"ticks\":\"\"},\"colorscale\":[[0.0,\"#0d0887\"],[0.1111111111111111,\"#46039f\"],[0.2222222222222222,\"#7201a8\"],[0.3333333333333333,\"#9c179e\"],[0.4444444444444444,\"#bd3786\"],[0.5555555555555556,\"#d8576b\"],[0.6666666666666666,\"#ed7953\"],[0.7777777777777778,\"#fb9f3a\"],[0.8888888888888888,\"#fdca26\"],[1.0,\"#f0f921\"]]}],\"heatmapgl\":[{\"type\":\"heatmapgl\",\"colorbar\":{\"outlinewidth\":0,\"ticks\":\"\"},\"colorscale\":[[0.0,\"#0d0887\"],[0.1111111111111111,\"#46039f\"],[0.2222222222222222,\"#7201a8\"],[0.3333333333333333,\"#9c179e\"],[0.4444444444444444,\"#bd3786\"],[0.5555555555555556,\"#d8576b\"],[0.6666666666666666,\"#ed7953\"],[0.7777777777777778,\"#fb9f3a\"],[0.8888888888888888,\"#fdca26\"],[1.0,\"#f0f921\"]]}],\"contourcarpet\":[{\"type\":\"contourcarpet\",\"colorbar\":{\"outlinewidth\":0,\"ticks\":\"\"}}],\"contour\":[{\"type\":\"contour\",\"colorbar\":{\"outlinewidth\":0,\"ticks\":\"\"},\"colorscale\":[[0.0,\"#0d0887\"],[0.1111111111111111,\"#46039f\"],[0.2222222222222222,\"#7201a8\"],[0.3333333333333333,\"#9c179e\"],[0.4444444444444444,\"#bd3786\"],[0.5555555555555556,\"#d8576b\"],[0.6666666666666666,\"#ed7953\"],[0.7777777777777778,\"#fb9f3a\"],[0.8888888888888888,\"#fdca26\"],[1.0,\"#f0f921\"]]}],\"surface\":[{\"type\":\"surface\",\"colorbar\":{\"outlinewidth\":0,\"ticks\":\"\"},\"colorscale\":[[0.0,\"#0d0887\"],[0.1111111111111111,\"#46039f\"],[0.2222222222222222,\"#7201a8\"],[0.3333333333333333,\"#9c179e\"],[0.4444444444444444,\"#bd3786\"],[0.5555555555555556,\"#d8576b\"],[0.6666666666666666,\"#ed7953\"],[0.7777777777777778,\"#fb9f3a\"],[0.8888888888888888,\"#fdca26\"],[1.0,\"#f0f921\"]]}],\"mesh3d\":[{\"type\":\"mesh3d\",\"colorbar\":{\"outlinewidth\":0,\"ticks\":\"\"}}],\"scatter\":[{\"fillpattern\":{\"fillmode\":\"overlay\",\"size\":10,\"solidity\":0.2},\"type\":\"scatter\"}],\"parcoords\":[{\"type\":\"parcoords\",\"line\":{\"colorbar\":{\"outlinewidth\":0,\"ticks\":\"\"}}}],\"scatterpolargl\":[{\"type\":\"scatterpolargl\",\"marker\":{\"colorbar\":{\"outlinewidth\":0,\"ticks\":\"\"}}}],\"bar\":[{\"error_x\":{\"color\":\"#2a3f5f\"},\"error_y\":{\"color\":\"#2a3f5f\"},\"marker\":{\"line\":{\"color\":\"#E5ECF6\",\"width\":0.5},\"pattern\":{\"fillmode\":\"overlay\",\"size\":10,\"solidity\":0.2}},\"type\":\"bar\"}],\"scattergeo\":[{\"type\":\"scattergeo\",\"marker\":{\"colorbar\":{\"outlinewidth\":0,\"ticks\":\"\"}}}],\"scatterpolar\":[{\"type\":\"scatterpolar\",\"marker\":{\"colorbar\":{\"outlinewidth\":0,\"ticks\":\"\"}}}],\"histogram\":[{\"marker\":{\"pattern\":{\"fillmode\":\"overlay\",\"size\":10,\"solidity\":0.2}},\"type\":\"histogram\"}],\"scattergl\":[{\"type\":\"scattergl\",\"marker\":{\"colorbar\":{\"outlinewidth\":0,\"ticks\":\"\"}}}],\"scatter3d\":[{\"type\":\"scatter3d\",\"line\":{\"colorbar\":{\"outlinewidth\":0,\"ticks\":\"\"}},\"marker\":{\"colorbar\":{\"outlinewidth\":0,\"ticks\":\"\"}}}],\"scattermapbox\":[{\"type\":\"scattermapbox\",\"marker\":{\"colorbar\":{\"outlinewidth\":0,\"ticks\":\"\"}}}],\"scatterternary\":[{\"type\":\"scatterternary\",\"marker\":{\"colorbar\":{\"outlinewidth\":0,\"ticks\":\"\"}}}],\"scattercarpet\":[{\"type\":\"scattercarpet\",\"marker\":{\"colorbar\":{\"outlinewidth\":0,\"ticks\":\"\"}}}],\"carpet\":[{\"aaxis\":{\"endlinecolor\":\"#2a3f5f\",\"gridcolor\":\"white\",\"linecolor\":\"white\",\"minorgridcolor\":\"white\",\"startlinecolor\":\"#2a3f5f\"},\"baxis\":{\"endlinecolor\":\"#2a3f5f\",\"gridcolor\":\"white\",\"linecolor\":\"white\",\"minorgridcolor\":\"white\",\"startlinecolor\":\"#2a3f5f\"},\"type\":\"carpet\"}],\"table\":[{\"cells\":{\"fill\":{\"color\":\"#EBF0F8\"},\"line\":{\"color\":\"white\"}},\"header\":{\"fill\":{\"color\":\"#C8D4E3\"},\"line\":{\"color\":\"white\"}},\"type\":\"table\"}],\"barpolar\":[{\"marker\":{\"line\":{\"color\":\"#E5ECF6\",\"width\":0.5},\"pattern\":{\"fillmode\":\"overlay\",\"size\":10,\"solidity\":0.2}},\"type\":\"barpolar\"}],\"pie\":[{\"automargin\":true,\"type\":\"pie\"}]},\"layout\":{\"autotypenumbers\":\"strict\",\"colorway\":[\"#636efa\",\"#EF553B\",\"#00cc96\",\"#ab63fa\",\"#FFA15A\",\"#19d3f3\",\"#FF6692\",\"#B6E880\",\"#FF97FF\",\"#FECB52\"],\"font\":{\"color\":\"#2a3f5f\"},\"hovermode\":\"closest\",\"hoverlabel\":{\"align\":\"left\"},\"paper_bgcolor\":\"white\",\"plot_bgcolor\":\"#E5ECF6\",\"polar\":{\"bgcolor\":\"#E5ECF6\",\"angularaxis\":{\"gridcolor\":\"white\",\"linecolor\":\"white\",\"ticks\":\"\"},\"radialaxis\":{\"gridcolor\":\"white\",\"linecolor\":\"white\",\"ticks\":\"\"}},\"ternary\":{\"bgcolor\":\"#E5ECF6\",\"aaxis\":{\"gridcolor\":\"white\",\"linecolor\":\"white\",\"ticks\":\"\"},\"baxis\":{\"gridcolor\":\"white\",\"linecolor\":\"white\",\"ticks\":\"\"},\"caxis\":{\"gridcolor\":\"white\",\"linecolor\":\"white\",\"ticks\":\"\"}},\"coloraxis\":{\"colorbar\":{\"outlinewidth\":0,\"ticks\":\"\"}},\"colorscale\":{\"sequential\":[[0.0,\"#0d0887\"],[0.1111111111111111,\"#46039f\"],[0.2222222222222222,\"#7201a8\"],[0.3333333333333333,\"#9c179e\"],[0.4444444444444444,\"#bd3786\"],[0.5555555555555556,\"#d8576b\"],[0.6666666666666666,\"#ed7953\"],[0.7777777777777778,\"#fb9f3a\"],[0.8888888888888888,\"#fdca26\"],[1.0,\"#f0f921\"]],\"sequentialminus\":[[0.0,\"#0d0887\"],[0.1111111111111111,\"#46039f\"],[0.2222222222222222,\"#7201a8\"],[0.3333333333333333,\"#9c179e\"],[0.4444444444444444,\"#bd3786\"],[0.5555555555555556,\"#d8576b\"],[0.6666666666666666,\"#ed7953\"],[0.7777777777777778,\"#fb9f3a\"],[0.8888888888888888,\"#fdca26\"],[1.0,\"#f0f921\"]],\"diverging\":[[0,\"#8e0152\"],[0.1,\"#c51b7d\"],[0.2,\"#de77ae\"],[0.3,\"#f1b6da\"],[0.4,\"#fde0ef\"],[0.5,\"#f7f7f7\"],[0.6,\"#e6f5d0\"],[0.7,\"#b8e186\"],[0.8,\"#7fbc41\"],[0.9,\"#4d9221\"],[1,\"#276419\"]]},\"xaxis\":{\"gridcolor\":\"white\",\"linecolor\":\"white\",\"ticks\":\"\",\"title\":{\"standoff\":15},\"zerolinecolor\":\"white\",\"automargin\":true,\"zerolinewidth\":2},\"yaxis\":{\"gridcolor\":\"white\",\"linecolor\":\"white\",\"ticks\":\"\",\"title\":{\"standoff\":15},\"zerolinecolor\":\"white\",\"automargin\":true,\"zerolinewidth\":2},\"scene\":{\"xaxis\":{\"backgroundcolor\":\"#E5ECF6\",\"gridcolor\":\"white\",\"linecolor\":\"white\",\"showbackground\":true,\"ticks\":\"\",\"zerolinecolor\":\"white\",\"gridwidth\":2},\"yaxis\":{\"backgroundcolor\":\"#E5ECF6\",\"gridcolor\":\"white\",\"linecolor\":\"white\",\"showbackground\":true,\"ticks\":\"\",\"zerolinecolor\":\"white\",\"gridwidth\":2},\"zaxis\":{\"backgroundcolor\":\"#E5ECF6\",\"gridcolor\":\"white\",\"linecolor\":\"white\",\"showbackground\":true,\"ticks\":\"\",\"zerolinecolor\":\"white\",\"gridwidth\":2}},\"shapedefaults\":{\"line\":{\"color\":\"#2a3f5f\"}},\"annotationdefaults\":{\"arrowcolor\":\"#2a3f5f\",\"arrowhead\":0,\"arrowwidth\":1},\"geo\":{\"bgcolor\":\"white\",\"landcolor\":\"#E5ECF6\",\"subunitcolor\":\"white\",\"showland\":true,\"showlakes\":true,\"lakecolor\":\"white\"},\"title\":{\"x\":0.05},\"mapbox\":{\"style\":\"light\"}}},\"xaxis\":{\"anchor\":\"y\",\"domain\":[0.0,1.0],\"title\":{\"text\":\"EV Class\"}},\"yaxis\":{\"anchor\":\"x\",\"domain\":[0.0,1.0],\"title\":{\"text\":\"Count\"}},\"legend\":{\"title\":{\"text\":\"variable\"},\"tracegroupgap\":0},\"title\":{\"text\":\"EV Class Adoption in Uttar Pradesh\"},\"barmode\":\"relative\"},                        {\"responsive\": true}                    ).then(function(){\n",
              "                            \n",
              "var gd = document.getElementById('c2249e5f-c1a0-4d08-8b75-27375fded690');\n",
              "var x = new MutationObserver(function (mutations, observer) {{\n",
              "        var display = window.getComputedStyle(gd).display;\n",
              "        if (!display || display === 'none') {{\n",
              "            console.log([gd, 'removed!']);\n",
              "            Plotly.purge(gd);\n",
              "            observer.disconnect();\n",
              "        }}\n",
              "}});\n",
              "\n",
              "// Listen for the removal of the full notebook cells\n",
              "var notebookContainer = gd.closest('#notebook-container');\n",
              "if (notebookContainer) {{\n",
              "    x.observe(notebookContainer, {childList: true});\n",
              "}}\n",
              "\n",
              "// Listen for the clearing of the current output cell\n",
              "var outputEl = gd.closest('.output');\n",
              "if (outputEl) {{\n",
              "    x.observe(outputEl, {childList: true});\n",
              "}}\n",
              "\n",
              "                        })                };                            </script>        </div>\n",
              "</body>\n",
              "</html>"
            ]
          },
          "metadata": {}
        }
      ],
      "source": [
        "# visualize the highest EV class in the state with highest adoption\n",
        "highest_ev_class_data = df[df['State'] == highest_ev_state][['ELECTRIC(BOV)', 'PLUG-IN HYBRID EV', 'PURE EV', 'STRONG HYBRID EV']].sum()\n",
        "fig = px.bar(highest_ev_class_data, title=f\"EV Class Adoption in {highest_ev_state}\")\n",
        "fig.update_layout(xaxis_title=\"EV Class\", yaxis_title=\"Count\")"
      ]
    },
    {
      "cell_type": "code",
      "execution_count": null,
      "id": "bdc0a910",
      "metadata": {
        "colab": {
          "base_uri": "https://localhost:8080/"
        },
        "id": "bdc0a910",
        "outputId": "c50dbf77-b127-4522-9124-2cebf2b42827"
      },
      "outputs": [
        {
          "output_type": "stream",
          "name": "stdout",
          "text": [
            "Year\n",
            "2014       2392.0\n",
            "2015       7805.0\n",
            "2016      49855.0\n",
            "2017      87420.0\n",
            "2018     130254.0\n",
            "2019     166819.0\n",
            "2020     124690.0\n",
            "2021     331498.0\n",
            "2022    1024723.0\n",
            "2023    1525182.0\n",
            "2024    1980687.0\n",
            "Name: Total_EV, dtype: float64\n"
          ]
        }
      ],
      "source": [
        "# EV vehicle sales by year (using 'Year' and 'Total_EV' columns)\n",
        "ev_sales_by_year = df.groupby('Year')['Total_EV'].sum()\n",
        "print(ev_sales_by_year)"
      ]
    },
    {
      "cell_type": "code",
      "execution_count": null,
      "id": "e13ce015",
      "metadata": {
        "id": "e13ce015",
        "outputId": "de3021b7-dc8c-450d-9164-74367f7a27cd"
      },
      "outputs": [
        {
          "name": "stdout",
          "output_type": "stream",
          "text": [
            "Year\n",
            "2014    0.007216\n",
            "2015    0.023545\n",
            "2016    0.150393\n",
            "2017    0.263712\n",
            "2018    0.392925\n",
            "2019    0.503228\n",
            "2020    0.376141\n",
            "2021    1.000000\n",
            "2022    3.091189\n",
            "2023    4.600878\n",
            "2024    5.974959\n",
            "Name: Total_EV, dtype: float64\n"
          ]
        }
      ],
      "source": [
        "#Ev shares\n",
        "ev_shares = df.groupby('Year')['Total_EV'].sum() / total_ev * 100\n",
        "print(ev_shares/100)"
      ]
    },
    {
      "cell_type": "markdown",
      "id": "f572e9f3",
      "metadata": {
        "id": "f572e9f3"
      },
      "source": [
        "**Key Observations:**\n",
        "- EV adoption has increased significantly **year-over-year**, with the highest registrations in recent years.\n",
        "- **Uttar Pradesh** leads in total EV registrations among all states.\n",
        "- The most popular EV class is '**ELECTRIC(BOV)**'.\n",
        "- Segment-wise, high-speed e-2W (**electric two-wheelers**) dominate sales.\n",
        "- The share of EVs in total automobile sales is steadily rising, indicating growing market penetration.\n",
        "- The dataset is large and detailed, enabling granular analysis by state, vehicle class, and time period."
      ]
    },
    {
      "cell_type": "code",
      "source": [
        "# Data for visualization\n",
        "years = ['FY 21-22', 'FY 22-23', 'FY 23-24']\n",
        "ev_sales = [1024723, 1525182, 1980687]\n",
        "ev_share = [3.09, 4.60, 5.97]\n",
        "\n",
        "segments = ['High-speed e-2W', 'E-Rickshaw', 'E-Cart', 'E-4W']\n",
        "segment_sales = [1209772, 474503, 65060, 115800]"
      ],
      "metadata": {
        "id": "eXYyuCxI_CKC"
      },
      "id": "eXYyuCxI_CKC",
      "execution_count": null,
      "outputs": []
    },
    {
      "cell_type": "code",
      "source": [
        "# Bar plot for EV sales per year\n",
        "fig, ax1 = plt.subplots(figsize=(8,5))\n",
        "sns.barplot(x=years, y=ev_sales, palette='Blues_d', ax=ax1)\n",
        "ax1.set_ylabel('EV Sales (Units)')\n",
        "ax1.set_title('EV Sales in India (FY 22-23 to FY 24-25)')\n",
        "for i, v in enumerate(ev_sales):\n",
        "    ax1.text(i, v + 30000, f\"{v:,}\", ha='center', fontweight='bold')\n",
        "plt.show()"
      ],
      "metadata": {
        "colab": {
          "base_uri": "https://localhost:8080/",
          "height": 609
        },
        "id": "g4sUxJ8d_FmG",
        "outputId": "b815e944-53a2-49f2-9858-9246eb0f5fc5"
      },
      "id": "g4sUxJ8d_FmG",
      "execution_count": null,
      "outputs": [
        {
          "output_type": "stream",
          "name": "stderr",
          "text": [
            "/tmp/ipython-input-24-159320874.py:3: FutureWarning:\n",
            "\n",
            "\n",
            "\n",
            "Passing `palette` without assigning `hue` is deprecated and will be removed in v0.14.0. Assign the `x` variable to `hue` and set `legend=False` for the same effect.\n",
            "\n",
            "\n"
          ]
        },
        {
          "output_type": "display_data",
          "data": {
            "text/plain": [
              "<Figure size 800x500 with 1 Axes>"
            ],
            "image/png": "[encoded data removed]"
          },
          "metadata": {}
        }
      ]
    },
    {
      "cell_type": "markdown",
      "source": [
        "The bar chart titled \"EV Sales in India (FY 22-23 to FY 24-25)\" shows the total electric vehicle (EV) sales in units for three fiscal years: FY 22-23, FY 23-24, and FY 24-25. Each bar represents a fiscal year, and its height indicates the total number of EVs sold in that year. The sales figures for each year are also annotated above the respective bars. This visualization demonstrates a clear upward trend in EV sales over these three fiscal years, indicating significant growth in the Indian EV market."
      ],
      "metadata": {
        "id": "3pYX-LVI_zva"
      },
      "id": "3pYX-LVI_zva"
    },
    {
      "cell_type": "code",
      "source": [
        "# Bar plot for EV share per year\n",
        "fig, ax2 = plt.subplots(figsize=(8,5))\n",
        "sns.barplot(x=years, y=ev_share, palette='Greens_d', ax=ax2)\n",
        "ax2.set_ylabel('EV Share (%)')\n",
        "ax2.set_title('EV Share of Total Automobile Sales in India')\n",
        "for i, v in enumerate(ev_share):\n",
        "    ax2.text(i, v + 0.2, f\"{v}%\", ha='center', fontweight='bold')\n",
        "plt.show()"
      ],
      "metadata": {
        "colab": {
          "base_uri": "https://localhost:8080/",
          "height": 609
        },
        "id": "-lKCXC9J_Fip",
        "outputId": "5c145851-2f4d-41ff-8d0d-efffaeaafe55"
      },
      "id": "-lKCXC9J_Fip",
      "execution_count": null,
      "outputs": [
        {
          "output_type": "stream",
          "name": "stderr",
          "text": [
            "/tmp/ipython-input-25-543194048.py:3: FutureWarning:\n",
            "\n",
            "\n",
            "\n",
            "Passing `palette` without assigning `hue` is deprecated and will be removed in v0.14.0. Assign the `x` variable to `hue` and set `legend=False` for the same effect.\n",
            "\n",
            "\n"
          ]
        },
        {
          "output_type": "display_data",
          "data": {
            "text/plain": [
              "<Figure size 800x500 with 1 Axes>"
            ],
            "image/png": "[encoded data removed]"
          },
          "metadata": {}
        }
      ]
    },
    {
      "cell_type": "code",
      "source": [
        "# Bar plot for segment-wise sales in FY 24-25\n",
        "fig, ax3 = plt.subplots(figsize=(8,5))\n",
        "sns.barplot(x=segments, y=segment_sales, palette='mako', ax=ax3)\n",
        "ax3.set_ylabel('Units Sold')\n",
        "ax3.set_title('Segment-wise EV Sales in FY 24-25')\n",
        "for i, v in enumerate(segment_sales):\n",
        "    ax3.text(i, v + 5000, f\"{v:,}\", ha='center', fontweight='bold')\n",
        "plt.show()"
      ],
      "metadata": {
        "colab": {
          "base_uri": "https://localhost:8080/",
          "height": 609
        },
        "id": "x9zAS3fa_Ff2",
        "outputId": "a3c0ca5b-69cb-45e1-ea3f-f29ca0bff9dd"
      },
      "id": "x9zAS3fa_Ff2",
      "execution_count": null,
      "outputs": [
        {
          "output_type": "stream",
          "name": "stderr",
          "text": [
            "/tmp/ipython-input-26-899154819.py:3: FutureWarning:\n",
            "\n",
            "\n",
            "\n",
            "Passing `palette` without assigning `hue` is deprecated and will be removed in v0.14.0. Assign the `x` variable to `hue` and set `legend=False` for the same effect.\n",
            "\n",
            "\n"
          ]
        },
        {
          "output_type": "display_data",
          "data": {
            "text/plain": [
              "<Figure size 800x500 with 1 Axes>"
            ],
            "image/png": "[encoded data removed]"
          },
          "metadata": {}
        }
      ]
    },
    {
      "cell_type": "markdown",
      "source": [
        "This bar chart displays the sales distribution of electric vehicles (EVs) across different market segments in India for the fiscal year **FY 24-25.** It shows the **total units sold for key EV categories**: High-speed e-2W (**electric two-wheelers**), **E-Rickshaw**, **E-Cart**, and E-4W (**electric four-wheelers**). The x-axis represents the different segments, and the height of each bar indicates the number of units sold in that segment. The sales figures for each segment are annotated above the bars. This visualization highlights the dominance of certain segments, like high-speed e-2Ws, in the Indian EV market during FY 24-25."
      ],
      "metadata": {
        "id": "P7wFOMXgAMis"
      },
      "id": "P7wFOMXgAMis"
    },
    {
      "cell_type": "code",
      "execution_count": null,
      "id": "ba6d0c0b",
      "metadata": {
        "colab": {
          "base_uri": "https://localhost:8080/"
        },
        "id": "ba6d0c0b",
        "outputId": "cf2bb85a-a8c4-4447-e516-d7060a309859"
      },
      "outputs": [
        {
          "output_type": "stream",
          "name": "stdout",
          "text": [
            "Total EV Sales in 2022-2023: 23836724\n"
          ]
        }
      ],
      "source": [
        "#total ev sales in 2022-2023\n",
        "total_ev_sales_2022_2023 = df[df['Year'] == 2023]['Total'].sum()\n",
        "print(f\"Total EV Sales in 2022-2023: {total_ev_sales_2022_2023}\")"
      ]
    },
    {
      "cell_type": "code",
      "execution_count": null,
      "id": "4d2152f0",
      "metadata": {
        "id": "4d2152f0",
        "outputId": "dfef6466-eaea-4420-fbc7-c8a27a94fa76"
      },
      "outputs": [
        {
          "name": "stdout",
          "output_type": "stream",
          "text": [
            "Total EV Sales in 2023-2024: 25883611\n"
          ]
        }
      ],
      "source": [
        "# total ev sales in 2023-2024\n",
        "total_ev_sales_2023_2024 = df[df['Year'] == 2024]['Total'].sum()\n",
        "print(f\"Total EV Sales in 2023-2024: {total_ev_sales_2023_2024}\")"
      ]
    },
    {
      "cell_type": "markdown",
      "id": "d55347d4",
      "metadata": {
        "id": "d55347d4"
      },
      "source": [
        "## Key Observations on above Visualization\n",
        "\n",
        "##  1. EV Sales Trend Last Three (FY 21-22 to FY 23-24)\n",
        "\n",
        "### EV Sales Growth:\n",
        "- **FY 21–22**: 1,024,723  \n",
        "- **FY 22–23**: 1,525,182  \n",
        "- **FY 23–24**: 1,980,687  \n",
        "\n",
        "###  Observation:\n",
        "EV sales in India have shown **consistent year-on-year growth**, with a **~93% increase** from FY 21–22 to FY 23–24.  \n",
        "This indicates **strong adoption and policy support**, **improved technology**, and growing **consumer confidence** in electric mobility.\n",
        "\n",
        "##  2. EV Share of Total Automobile Sales\n",
        "\n",
        "### EV Market Share Growth:\n",
        "- **FY 21–22**: 3.09%  \n",
        "- **FY 22–23**: 4.60%  \n",
        "- **FY 23–24**: 5.97%  \n",
        "\n",
        "###  Observation:\n",
        "Although the absolute EV sales are increasing rapidly, their **share in total vehicle sales is growing at a steady but moderate pace**.  \n",
        "This suggests that the **overall automobile market is also expanding**, and while **EV adoption is rising**, **ICE vehicles still dominate** the market.\n",
        "\n",
        "##  3. Segment-wise EV Sales (FY 23-24)\n",
        "\n",
        "### Sales by Segment:\n",
        "- **High-speed e-2W**: 1,209,772  \n",
        "- **E-Rickshaw**: 474,503  \n",
        "- **E-Cart**: 65,060  \n",
        "- **E-4W (Electric Cars)**: 115,800  \n",
        "\n",
        "###  Observation:\n",
        "The **two-wheeler (e-2W)** segment clearly dominates the EV landscape, accounting for **over 60%** of total segmental sales.  \n",
        "This is driven by:\n",
        "- **Affordability**\n",
        "- **Ease of use** in urban areas\n",
        "- **Government incentives**\n",
        "\n",
        "E-Rickshaws also show **strong adoption** due to their utility in **short-distance public transport**.  \n",
        "**Electric four-wheelers (E-4W)** are growing but still **lag behind** due to **higher costs** and **limited charging infrastructure**."
      ]
    },
    {
      "cell_type": "code",
      "execution_count": null,
      "id": "348627bb",
      "metadata": {
        "colab": {
          "base_uri": "https://localhost:8080/",
          "height": 617
        },
        "id": "348627bb",
        "outputId": "a7df4316-521c-4b56-9251-5382830dd14b"
      },
      "outputs": [
        {
          "output_type": "display_data",
          "data": {
            "text/html": [
              "<html>\n",
              "<head><meta charset=\"utf-8\" /></head>\n",
              "<body>\n",
              "    <div>            <script src=\"https://cdnjs.cloudflare.com/ajax/libs/mathjax/2.7.5/MathJax.js?config=TeX-AMS-MML_SVG\"></script><script type=\"text/javascript\">if (window.MathJax && window.MathJax.Hub && window.MathJax.Hub.Config) {window.MathJax.Hub.Config({SVG: {font: \"STIX-Web\"}});}</script>                <script type=\"text/javascript\">window.PlotlyConfig = {MathJaxConfig: 'local'};</script>\n",
              "        <script charset=\"utf-8\" src=\"https://cdn.plot.ly/plotly-2.35.2.min.js\"></script>                <div id=\"b143e271-16da-495f-ba8f-d7502f21acbe\" class=\"plotly-graph-div\" style=\"height:600px; width:100%;\"></div>            <script type=\"text/javascript\">                                    window.PLOTLYENV=window.PLOTLYENV || {};                                    if (document.getElementById(\"b143e271-16da-495f-ba8f-d7502f21acbe\")) {                    Plotly.newPlot(                        \"b143e271-16da-495f-ba8f-d7502f21acbe\",                        [{\"domain\":{\"x\":[0,0.48]},\"hole\":0.5,\"labels\":[\"e-2W\",\"e-Rickshaw\",\"e-3W Pax (LSM)\",\"e-3W Goods (LSN)\",\"e-4W\",\"e-Bus\",\"Others\",\"e-Cart\",\"e-Goods Carrier\"],\"name\":\"FY 24-25\",\"textinfo\":\"label+percent\",\"values\":[60.1,27.2,3.5,1.8,6.4,0.2,0.01,0.7,0.1],\"type\":\"pie\"},{\"domain\":{\"x\":[0.52,1]},\"hole\":0.5,\"labels\":[\"e-2W\",\"e-Rickshaw\",\"e-3W Pax (LSM)\",\"e-3W Goods (LSN)\",\"e-4W\",\"e-Bus\",\"Others\",\"e-Cart\",\"e-Goods Carrier\"],\"name\":\"FY 23-24\",\"textinfo\":\"label+percent\",\"values\":[59.4,23.3,6.6,1.4,5.7,0.2,0.02,2.3,0.2],\"type\":\"pie\"}],                        {\"template\":{\"data\":{\"histogram2dcontour\":[{\"type\":\"histogram2dcontour\",\"colorbar\":{\"outlinewidth\":0,\"ticks\":\"\"},\"colorscale\":[[0.0,\"#0d0887\"],[0.1111111111111111,\"#46039f\"],[0.2222222222222222,\"#7201a8\"],[0.3333333333333333,\"#9c179e\"],[0.4444444444444444,\"#bd3786\"],[0.5555555555555556,\"#d8576b\"],[0.6666666666666666,\"#ed7953\"],[0.7777777777777778,\"#fb9f3a\"],[0.8888888888888888,\"#fdca26\"],[1.0,\"#f0f921\"]]}],\"choropleth\":[{\"type\":\"choropleth\",\"colorbar\":{\"outlinewidth\":0,\"ticks\":\"\"}}],\"histogram2d\":[{\"type\":\"histogram2d\",\"colorbar\":{\"outlinewidth\":0,\"ticks\":\"\"},\"colorscale\":[[0.0,\"#0d0887\"],[0.1111111111111111,\"#46039f\"],[0.2222222222222222,\"#7201a8\"],[0.3333333333333333,\"#9c179e\"],[0.4444444444444444,\"#bd3786\"],[0.5555555555555556,\"#d8576b\"],[0.6666666666666666,\"#ed7953\"],[0.7777777777777778,\"#fb9f3a\"],[0.8888888888888888,\"#fdca26\"],[1.0,\"#f0f921\"]]}],\"heatmap\":[{\"type\":\"heatmap\",\"colorbar\":{\"outlinewidth\":0,\"ticks\":\"\"},\"colorscale\":[[0.0,\"#0d0887\"],[0.1111111111111111,\"#46039f\"],[0.2222222222222222,\"#7201a8\"],[0.3333333333333333,\"#9c179e\"],[0.4444444444444444,\"#bd3786\"],[0.5555555555555556,\"#d8576b\"],[0.6666666666666666,\"#ed7953\"],[0.7777777777777778,\"#fb9f3a\"],[0.8888888888888888,\"#fdca26\"],[1.0,\"#f0f921\"]]}],\"heatmapgl\":[{\"type\":\"heatmapgl\",\"colorbar\":{\"outlinewidth\":0,\"ticks\":\"\"},\"colorscale\":[[0.0,\"#0d0887\"],[0.1111111111111111,\"#46039f\"],[0.2222222222222222,\"#7201a8\"],[0.3333333333333333,\"#9c179e\"],[0.4444444444444444,\"#bd3786\"],[0.5555555555555556,\"#d8576b\"],[0.6666666666666666,\"#ed7953\"],[0.7777777777777778,\"#fb9f3a\"],[0.8888888888888888,\"#fdca26\"],[1.0,\"#f0f921\"]]}],\"contourcarpet\":[{\"type\":\"contourcarpet\",\"colorbar\":{\"outlinewidth\":0,\"ticks\":\"\"}}],\"contour\":[{\"type\":\"contour\",\"colorbar\":{\"outlinewidth\":0,\"ticks\":\"\"},\"colorscale\":[[0.0,\"#0d0887\"],[0.1111111111111111,\"#46039f\"],[0.2222222222222222,\"#7201a8\"],[0.3333333333333333,\"#9c179e\"],[0.4444444444444444,\"#bd3786\"],[0.5555555555555556,\"#d8576b\"],[0.6666666666666666,\"#ed7953\"],[0.7777777777777778,\"#fb9f3a\"],[0.8888888888888888,\"#fdca26\"],[1.0,\"#f0f921\"]]}],\"surface\":[{\"type\":\"surface\",\"colorbar\":{\"outlinewidth\":0,\"ticks\":\"\"},\"colorscale\":[[0.0,\"#0d0887\"],[0.1111111111111111,\"#46039f\"],[0.2222222222222222,\"#7201a8\"],[0.3333333333333333,\"#9c179e\"],[0.4444444444444444,\"#bd3786\"],[0.5555555555555556,\"#d8576b\"],[0.6666666666666666,\"#ed7953\"],[0.7777777777777778,\"#fb9f3a\"],[0.8888888888888888,\"#fdca26\"],[1.0,\"#f0f921\"]]}],\"mesh3d\":[{\"type\":\"mesh3d\",\"colorbar\":{\"outlinewidth\":0,\"ticks\":\"\"}}],\"scatter\":[{\"fillpattern\":{\"fillmode\":\"overlay\",\"size\":10,\"solidity\":0.2},\"type\":\"scatter\"}],\"parcoords\":[{\"type\":\"parcoords\",\"line\":{\"colorbar\":{\"outlinewidth\":0,\"ticks\":\"\"}}}],\"scatterpolargl\":[{\"type\":\"scatterpolargl\",\"marker\":{\"colorbar\":{\"outlinewidth\":0,\"ticks\":\"\"}}}],\"bar\":[{\"error_x\":{\"color\":\"#2a3f5f\"},\"error_y\":{\"color\":\"#2a3f5f\"},\"marker\":{\"line\":{\"color\":\"#E5ECF6\",\"width\":0.5},\"pattern\":{\"fillmode\":\"overlay\",\"size\":10,\"solidity\":0.2}},\"type\":\"bar\"}],\"scattergeo\":[{\"type\":\"scattergeo\",\"marker\":{\"colorbar\":{\"outlinewidth\":0,\"ticks\":\"\"}}}],\"scatterpolar\":[{\"type\":\"scatterpolar\",\"marker\":{\"colorbar\":{\"outlinewidth\":0,\"ticks\":\"\"}}}],\"histogram\":[{\"marker\":{\"pattern\":{\"fillmode\":\"overlay\",\"size\":10,\"solidity\":0.2}},\"type\":\"histogram\"}],\"scattergl\":[{\"type\":\"scattergl\",\"marker\":{\"colorbar\":{\"outlinewidth\":0,\"ticks\":\"\"}}}],\"scatter3d\":[{\"type\":\"scatter3d\",\"line\":{\"colorbar\":{\"outlinewidth\":0,\"ticks\":\"\"}},\"marker\":{\"colorbar\":{\"outlinewidth\":0,\"ticks\":\"\"}}}],\"scattermapbox\":[{\"type\":\"scattermapbox\",\"marker\":{\"colorbar\":{\"outlinewidth\":0,\"ticks\":\"\"}}}],\"scatterternary\":[{\"type\":\"scatterternary\",\"marker\":{\"colorbar\":{\"outlinewidth\":0,\"ticks\":\"\"}}}],\"scattercarpet\":[{\"type\":\"scattercarpet\",\"marker\":{\"colorbar\":{\"outlinewidth\":0,\"ticks\":\"\"}}}],\"carpet\":[{\"aaxis\":{\"endlinecolor\":\"#2a3f5f\",\"gridcolor\":\"white\",\"linecolor\":\"white\",\"minorgridcolor\":\"white\",\"startlinecolor\":\"#2a3f5f\"},\"baxis\":{\"endlinecolor\":\"#2a3f5f\",\"gridcolor\":\"white\",\"linecolor\":\"white\",\"minorgridcolor\":\"white\",\"startlinecolor\":\"#2a3f5f\"},\"type\":\"carpet\"}],\"table\":[{\"cells\":{\"fill\":{\"color\":\"#EBF0F8\"},\"line\":{\"color\":\"white\"}},\"header\":{\"fill\":{\"color\":\"#C8D4E3\"},\"line\":{\"color\":\"white\"}},\"type\":\"table\"}],\"barpolar\":[{\"marker\":{\"line\":{\"color\":\"#E5ECF6\",\"width\":0.5},\"pattern\":{\"fillmode\":\"overlay\",\"size\":10,\"solidity\":0.2}},\"type\":\"barpolar\"}],\"pie\":[{\"automargin\":true,\"type\":\"pie\"}]},\"layout\":{\"autotypenumbers\":\"strict\",\"colorway\":[\"#636efa\",\"#EF553B\",\"#00cc96\",\"#ab63fa\",\"#FFA15A\",\"#19d3f3\",\"#FF6692\",\"#B6E880\",\"#FF97FF\",\"#FECB52\"],\"font\":{\"color\":\"#2a3f5f\"},\"hovermode\":\"closest\",\"hoverlabel\":{\"align\":\"left\"},\"paper_bgcolor\":\"white\",\"plot_bgcolor\":\"#E5ECF6\",\"polar\":{\"bgcolor\":\"#E5ECF6\",\"angularaxis\":{\"gridcolor\":\"white\",\"linecolor\":\"white\",\"ticks\":\"\"},\"radialaxis\":{\"gridcolor\":\"white\",\"linecolor\":\"white\",\"ticks\":\"\"}},\"ternary\":{\"bgcolor\":\"#E5ECF6\",\"aaxis\":{\"gridcolor\":\"white\",\"linecolor\":\"white\",\"ticks\":\"\"},\"baxis\":{\"gridcolor\":\"white\",\"linecolor\":\"white\",\"ticks\":\"\"},\"caxis\":{\"gridcolor\":\"white\",\"linecolor\":\"white\",\"ticks\":\"\"}},\"coloraxis\":{\"colorbar\":{\"outlinewidth\":0,\"ticks\":\"\"}},\"colorscale\":{\"sequential\":[[0.0,\"#0d0887\"],[0.1111111111111111,\"#46039f\"],[0.2222222222222222,\"#7201a8\"],[0.3333333333333333,\"#9c179e\"],[0.4444444444444444,\"#bd3786\"],[0.5555555555555556,\"#d8576b\"],[0.6666666666666666,\"#ed7953\"],[0.7777777777777778,\"#fb9f3a\"],[0.8888888888888888,\"#fdca26\"],[1.0,\"#f0f921\"]],\"sequentialminus\":[[0.0,\"#0d0887\"],[0.1111111111111111,\"#46039f\"],[0.2222222222222222,\"#7201a8\"],[0.3333333333333333,\"#9c179e\"],[0.4444444444444444,\"#bd3786\"],[0.5555555555555556,\"#d8576b\"],[0.6666666666666666,\"#ed7953\"],[0.7777777777777778,\"#fb9f3a\"],[0.8888888888888888,\"#fdca26\"],[1.0,\"#f0f921\"]],\"diverging\":[[0,\"#8e0152\"],[0.1,\"#c51b7d\"],[0.2,\"#de77ae\"],[0.3,\"#f1b6da\"],[0.4,\"#fde0ef\"],[0.5,\"#f7f7f7\"],[0.6,\"#e6f5d0\"],[0.7,\"#b8e186\"],[0.8,\"#7fbc41\"],[0.9,\"#4d9221\"],[1,\"#276419\"]]},\"xaxis\":{\"gridcolor\":\"white\",\"linecolor\":\"white\",\"ticks\":\"\",\"title\":{\"standoff\":15},\"zerolinecolor\":\"white\",\"automargin\":true,\"zerolinewidth\":2},\"yaxis\":{\"gridcolor\":\"white\",\"linecolor\":\"white\",\"ticks\":\"\",\"title\":{\"standoff\":15},\"zerolinecolor\":\"white\",\"automargin\":true,\"zerolinewidth\":2},\"scene\":{\"xaxis\":{\"backgroundcolor\":\"#E5ECF6\",\"gridcolor\":\"white\",\"linecolor\":\"white\",\"showbackground\":true,\"ticks\":\"\",\"zerolinecolor\":\"white\",\"gridwidth\":2},\"yaxis\":{\"backgroundcolor\":\"#E5ECF6\",\"gridcolor\":\"white\",\"linecolor\":\"white\",\"showbackground\":true,\"ticks\":\"\",\"zerolinecolor\":\"white\",\"gridwidth\":2},\"zaxis\":{\"backgroundcolor\":\"#E5ECF6\",\"gridcolor\":\"white\",\"linecolor\":\"white\",\"showbackground\":true,\"ticks\":\"\",\"zerolinecolor\":\"white\",\"gridwidth\":2}},\"shapedefaults\":{\"line\":{\"color\":\"#2a3f5f\"}},\"annotationdefaults\":{\"arrowcolor\":\"#2a3f5f\",\"arrowhead\":0,\"arrowwidth\":1},\"geo\":{\"bgcolor\":\"white\",\"landcolor\":\"#E5ECF6\",\"subunitcolor\":\"white\",\"showland\":true,\"showlakes\":true,\"lakecolor\":\"white\"},\"title\":{\"x\":0.05},\"mapbox\":{\"style\":\"light\"}}},\"title\":{\"text\":\"Vehicle Category-wise EV Sales India | FY24-25 vs FY23-24\"},\"annotations\":[{\"showarrow\":false,\"text\":\"2,38,36,724 Units\",\"x\":0.19,\"y\":0.5,\"font\":{\"size\":14}},{\"showarrow\":false,\"text\":\"2,58,83,611 Units\",\"x\":0.81,\"y\":0.5,\"font\":{\"size\":14}}],\"height\":600,\"showlegend\":false},                        {\"responsive\": true}                    ).then(function(){\n",
              "                            \n",
              "var gd = document.getElementById('b143e271-16da-495f-ba8f-d7502f21acbe');\n",
              "var x = new MutationObserver(function (mutations, observer) {{\n",
              "        var display = window.getComputedStyle(gd).display;\n",
              "        if (!display || display === 'none') {{\n",
              "            console.log([gd, 'removed!']);\n",
              "            Plotly.purge(gd);\n",
              "            observer.disconnect();\n",
              "        }}\n",
              "}});\n",
              "\n",
              "// Listen for the removal of the full notebook cells\n",
              "var notebookContainer = gd.closest('#notebook-container');\n",
              "if (notebookContainer) {{\n",
              "    x.observe(notebookContainer, {childList: true});\n",
              "}}\n",
              "\n",
              "// Listen for the clearing of the current output cell\n",
              "var outputEl = gd.closest('.output');\n",
              "if (outputEl) {{\n",
              "    x.observe(outputEl, {childList: true});\n",
              "}}\n",
              "\n",
              "                        })                };                            </script>        </div>\n",
              "</body>\n",
              "</html>"
            ]
          },
          "metadata": {}
        }
      ],
      "source": [
        "import plotly.graph_objects as go\n",
        "\n",
        "# Data for FY 24-25\n",
        "labels_24_25 = ['e-2W', 'e-Rickshaw', 'e-3W Pax (LSM)', 'e-3W Goods (LSN)', 'e-4W', 'e-Bus', 'Others', 'e-Cart', 'e-Goods Carrier']\n",
        "values_24_25 = [60.1, 27.2, 3.5, 1.8, 6.4, 0.2, 0.01, 0.7, 0.1]\n",
        "\n",
        "# Data for FY 23-24\n",
        "labels_23_24 = ['e-2W', 'e-Rickshaw', 'e-3W Pax (LSM)', 'e-3W Goods (LSN)', 'e-4W', 'e-Bus', 'Others', 'e-Cart', 'e-Goods Carrier']\n",
        "values_23_24 = [59.4, 23.3, 6.6, 1.4, 5.7, 0.2, 0.02, 2.3, 0.2]\n",
        "\n",
        "# Create donut chart for FY 24-25\n",
        "fig = go.Figure()\n",
        "\n",
        "fig.add_trace(go.Pie(\n",
        "    labels=labels_24_25,\n",
        "    values=values_24_25,\n",
        "    hole=0.5,\n",
        "    name=\"FY 24-25\",\n",
        "    domain={'x': [0, 0.48]},\n",
        "    # title=\"FY 24-25\",\n",
        "    textinfo='label+percent'\n",
        "))\n",
        "\n",
        "# Create donut chart for FY 23-24\n",
        "fig.add_trace(go.Pie(\n",
        "    labels=labels_23_24,\n",
        "    values=values_23_24,\n",
        "    hole=0.5,\n",
        "    name=\"FY 23-24\",\n",
        "    domain={'x': [0.52, 1]},\n",
        "    # title=\"FY 23-24\",\n",
        "    textinfo='label+percent'\n",
        "))\n",
        "\n",
        "fig.update_layout(\n",
        "    title_text=\"Vehicle Category-wise EV Sales India | FY24-25 vs FY23-24\",\n",
        "    annotations=[\n",
        "        dict(text=\"2,38,36,724 Units\", x=0.19, y=0.5, font_size=14, showarrow=False),\n",
        "        dict(text='2,58,83,611 Units', x=0.81, y=0.5, font_size=14, showarrow=False)\n",
        "    ],\n",
        "    height=600,\n",
        "    showlegend=False\n",
        ")\n",
        "\n",
        "\n",
        "fig.show()\n"
      ]
    },
    {
      "cell_type": "markdown",
      "id": "50582ad3",
      "metadata": {
        "id": "50582ad3"
      },
      "source": [
        "### **Conclusion and Insights**\n",
        "\n",
        "The analysis and visualizations above provide a comprehensive overview of the Indian electric vehicle (EV) market's recent trends and segment-wise performance:\n",
        "\n",
        "- **Consistent Growth:** EV sales in India have shown robust year-on-year growth from FY 21-22 to FY 23-24, nearly doubling in this period. This reflects increasing consumer acceptance, favorable government policies, and technological advancements.\n",
        "- **Market Share:** While the absolute number of EVs is rising rapidly, their share in total automobile sales is increasing at a steady but moderate pace, indicating that internal combustion engine (ICE) vehicles still dominate but the EV market is steadily gaining ground.\n",
        "- **Segment Dominance:** High-speed electric two-wheelers (e-2W) are the leading segment, accounting for over 60% of total EV sales, followed by e-rickshaws and e-carts. This dominance is driven by affordability, urban mobility needs, and government incentives.\n",
        "- **State-wise Trends:** Uttar Pradesh leads in total EV registrations, with 'ELECTRIC(BOV)' being the most popular EV class in the state.\n",
        "- **Category-wise Distribution:** Donut charts highlight the evolving distribution of EV sales across different vehicle categories, with e-2W and e-rickshaws maintaining the largest shares.\n",
        "- **Opportunities:** The data suggests significant opportunities for growth in four-wheeler and commercial EV segments as infrastructure and affordability improve.\n",
        "\n",
        "**Overall, the Indian EV market is on a strong growth trajectory, with two-wheelers and public transport vehicles driving adoption. Continued policy support, infrastructure development, and innovation will be key to sustaining and accelerating this momentum.**"
      ]
    },
    {
      "cell_type": "markdown",
      "source": [
        "**The process of the analysis in this involves the following steps and utilizes the specified libraries and models:**\n",
        "\n",
        "**Libraries Used:**\n",
        "\n",
        "*   **`pandas`**\n",
        "*   **`numpy`**\n",
        "*   **`matplotlib.pyplot`**\n",
        "*   **`seaborn`**\n",
        "*   **`plotly.express`**\n",
        "*   **`plotly.graph_objects`**\n",
        "\n",
        "**Analysis Process:**\n",
        "\n",
        "1.  **Data Loading and Initial Inspection:**\n",
        "    *   The EV sales data is loaded from a CSV file into a pandas DataFrame (`df`).\n",
        "    *   Basic inspection of the data is performed using `df.head()`, `df.info()`, and `df.isnull().sum()` to understand the data structure, data types, and identify missing values.\n",
        "    *   `df.describe()` is used to get descriptive statistics of the numerical columns.\n",
        "\n",
        "2.  **Data Preprocessing and Feature Engineering:**\n",
        "    *   Unique states in the dataset are identified.\n",
        "    *   Month names are converted to numerical representations, and a `Month_start` column is created as a datetime object for time-series analysis.\n",
        "    *   State names are standardized by converting them to title case.\n",
        "    *   A new column `Total_EV` is created by summing up the counts of different EV types, handling potential missing values.\n",
        "\n",
        "3.  **Exploratory Data Analysis (EDA) and Visualization:**\n",
        "    *   The total number of EVs across the dataset is calculated.\n",
        "    *   State-wise total EV sales are calculated and sorted to identify leading states.\n",
        "    *   **Monthly EV Adoption Trend:** An interactive line plot using `plotly.express` is generated to visualize the trend of total EV adoption over time.\n",
        "    *   **State-wise EV Adoption:** An interactive bar plot using `plotly.express` is created to show the total EV sales for each state.\n",
        "    *   The state with the highest EV adoption is identified.\n",
        "    *   The most popular EV class in the state with the highest adoption is determined.\n",
        "    *   **EV Class Adoption in Leading State:** An interactive bar plot using `plotly.express` is generated to visualize the distribution of EV classes in the state with the highest adoption.\n",
        "    *   Total EV sales by year are calculated.\n",
        "    *   The share of EVs in total automobile sales by year is calculated.\n",
        "    *   **Annual EV Sales Trend:** A static bar plot using `seaborn` is created to visualize the total EV sales for three fiscal years (FY 22-23 to FY 24-25).\n",
        "    *   **Annual EV Share Trend:** A static bar plot using `seaborn` is created to visualize the percentage share of EVs in total automobile sales for the same fiscal years.\n",
        "    *   **Segment-wise Sales (FY 24-25):** A static bar plot using `seaborn` is created to show the sales distribution across different EV segments in FY 24-25.\n",
        "    *   Total EV sales for specific fiscal years (2022-2023 and 2023-2024 based on the 'Year' column in the DataFrame) are calculated and printed.\n",
        "    *   **Category-wise Sales Distribution:** Interactive donut charts using `plotly.graph_objects` are created to compare the percentage distribution of EV sales across different vehicle categories for FY 24-25 and FY 23-24.\n",
        "\n",
        "**Models or Advanced Techniques Used:**\n",
        "\n",
        "*   This analysis primarily focuses on **data aggregation, calculation, and visualization**.\n",
        "*   It uses standard pandas operations for data manipulation.\n",
        "*   It heavily relies on **data visualization** using `matplotlib`, `seaborn`, and `plotly` to identify trends and patterns in the EV market.\n",
        "*   No complex machine learning models or statistical modeling techniques are explicitly used in the provided code. The analysis is descriptive and focuses on presenting key trends and segment performance.\n",
        "\n",
        "**In summary, the process involves loading and cleaning the data, creating relevant features, and then using various visualization techniques to explore and communicate insights about the Indian EV market, focusing on growth trends, state-wise adoption, and segment performance.**"
      ],
      "metadata": {
        "id": "qay3pLD8BohX"
      },
      "id": "qay3pLD8BohX"
    },
    {
      "cell_type": "markdown",
      "source": [
        "#### **To present the company's proposed solution to the problem.**\n",
        "\n",
        "The Indian electric vehicle (EV) market is experiencing robust growth, primarily driven by the adoption of two-wheelers and public transport vehicles. Sustaining and accelerating this momentum will depend on continued policy support, infrastructure development, and ongoing innovation."
      ],
      "metadata": {
        "id": "aP6NgOOjCkHs"
      },
      "id": "aP6NgOOjCkHs"
    },
    {
      "cell_type": "code",
      "source": [],
      "metadata": {
        "id": "pxnomnJ0CssY"
      },
      "id": "pxnomnJ0CssY",
      "execution_count": null,
      "outputs": []
    }
  ],
  "metadata": {
    "kernelspec": {
      "display_name": "base",
      "language": "python",
      "name": "python3"
    },
    "language_info": {
      "codemirror_mode": {
        "name": "ipython",
        "version": 3
      },
      "file_extension": ".py",
      "mimetype": "text/x-python",
      "name": "python",
      "nbconvert_exporter": "python",
      "pygments_lexer": "ipython3",
      "version": "3.12.3"
    },
    "colab": {
      "provenance": []
    }
  },
  "nbformat": 4,
  "nbformat_minor": 5
}